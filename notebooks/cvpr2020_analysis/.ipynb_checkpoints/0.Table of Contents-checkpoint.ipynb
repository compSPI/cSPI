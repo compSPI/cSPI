{
 "cells": [
  {
   "cell_type": "code",
   "execution_count": 2,
   "metadata": {},
   "outputs": [],
   "source": [
    "import os, sys, glob"
   ]
  },
  {
   "cell_type": "markdown",
   "metadata": {},
   "source": [
    "# Synthetic Dataset\n",
    "## 2D Class\n",
    "### No noise"
   ]
  },
  {
   "cell_type": "code",
   "execution_count": 4,
   "metadata": {},
   "outputs": [
    {
     "data": {
      "text/plain": [
       "['./sim_2Dclass_nodisorder_nonoise_128x128/pca_of_latent_space.png',\n",
       " './sim_2Dclass_nodisorder_nonoise_128x128/train_vae',\n",
       " './sim_2Dclass_nodisorder_nonoise_128x128/polar_prediction.png',\n",
       " './sim_2Dclass_nodisorder_nonoise_128x128/latent_space.png',\n",
       " './sim_2Dclass_nodisorder_nonoise_128x128/series_defocus2.5']"
      ]
     },
     "execution_count": 4,
     "metadata": {},
     "output_type": "execute_result"
    }
   ],
   "source": [
    "PATH='./sim_2Dclass_nodisorder_nonoise_128x128/'\n",
    "glob.glob(PATH+'*')"
   ]
  },
  {
   "cell_type": "markdown",
   "metadata": {},
   "source": [
    "# Experimental Dataset\n",
    "\n",
    "After Motion correction and CTF estimation on the 7664 micrographs, 113854 particles are picked (pixel size: 0.6834 A; box size: 540 pix, rescaled to 180). They undergo a first 2D classification job (job008), from which 21 classes are selected totalling 416743 particles. Subjected to a second round of 2D classification (job011)that results in 43 classes being kept (285299 particles) for 3D refinement (job016). Class 93 of job011 is selected and fed to VAEGAN. We study it first.\n",
    "\n",
    "A third round of 2D classification (job393) was carried out after job011, from which 31 classes were kept totalling 279261 particles that were subjected to 3D refinement (job404). Class 30 and 39 of job393 were selected and fed into VAEGAN, as they seemed to respectively show less symmetry or a side view. We will study them later."
   ]
  },
  {
   "cell_type": "markdown",
   "metadata": {},
   "source": [
    "## 2D Classes"
   ]
  },
  {
   "cell_type": "markdown",
   "metadata": {},
   "source": [
    "### Class 93 of job011"
   ]
  },
  {
   "cell_type": "code",
   "execution_count": 9,
   "metadata": {},
   "outputs": [
    {
     "data": {
      "text/plain": [
       "['./exp_2Dclass_round2_class93_128x128/pca_of_latent_space.png',\n",
       " './exp_2Dclass_round2_class93_128x128/train_vae',\n",
       " './exp_2Dclass_round2_class93_128x128/polar_prediction.png',\n",
       " './exp_2Dclass_round2_class93_128x128/latent_space.png']"
      ]
     },
     "execution_count": 9,
     "metadata": {},
     "output_type": "execute_result"
    }
   ],
   "source": [
    "PATH='./exp_2Dclass_round2_class93_128x128/'\n",
    "glob.glob(PATH+'*')"
   ]
  },
  {
   "cell_type": "code",
   "execution_count": null,
   "metadata": {},
   "outputs": [],
   "source": []
  }
 ],
 "metadata": {
  "kernelspec": {
   "display_name": "Python 3",
   "language": "python",
   "name": "python3"
  },
  "language_info": {
   "codemirror_mode": {
    "name": "ipython",
    "version": 3
   },
   "file_extension": ".py",
   "mimetype": "text/x-python",
   "name": "python",
   "nbconvert_exporter": "python",
   "pygments_lexer": "ipython3",
   "version": "3.6.3"
  }
 },
 "nbformat": 4,
 "nbformat_minor": 4
}
