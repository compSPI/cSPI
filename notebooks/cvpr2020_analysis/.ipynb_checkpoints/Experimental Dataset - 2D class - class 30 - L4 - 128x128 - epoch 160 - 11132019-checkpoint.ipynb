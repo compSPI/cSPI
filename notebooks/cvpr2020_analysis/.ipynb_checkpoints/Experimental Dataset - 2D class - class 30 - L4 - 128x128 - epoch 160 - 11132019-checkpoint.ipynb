{
 "cells": [
  {
   "cell_type": "markdown",
   "metadata": {},
   "source": [
    "Experimental Dataset - 2D class - class 30 - 128x128"
   ]
  },
  {
   "cell_type": "markdown",
   "metadata": {},
   "source": [
    "# Setup"
   ]
  },
  {
   "cell_type": "code",
   "execution_count": null,
   "metadata": {},
   "outputs": [],
   "source": [
    "%matplotlib inline\n",
    "import os, sys, glob, shutil\n",
    "from matplotlib import pyplot as plt\n",
    "import numpy as np\n",
    "import torch\n",
    "import h5py\n",
    "from sklearn import metrics\n",
    "from scipy.stats import special_ortho_group\n",
    "from scipy.optimize import curve_fit\n",
    "from IPython.display import Image\n",
    "sys.path.append('../utils/')\n",
    "import functions_for_fred as fn\n",
    "import nn\n",
    "import viz\n",
    "import pred"
   ]
  },
  {
   "cell_type": "code",
   "execution_count": null,
   "metadata": {},
   "outputs": [],
   "source": [
    "fig_force_update_master=False"
   ]
  },
  {
   "cell_type": "code",
   "execution_count": null,
   "metadata": {},
   "outputs": [],
   "source": [
    "CLASS_NUMBER = 30\n",
    "L            = 4\n",
    "EPOCH_NUMBER = 160\n",
    "CHECKPTH_KEY = 'cone_'\n",
    "DATA_KEY     = 'class_2d_{}'.format(CLASS_NUMBER)\n",
    "METADATA_KEY = 'class2D'"
   ]
  },
  {
   "cell_type": "code",
   "execution_count": null,
   "metadata": {},
   "outputs": [],
   "source": [
    "# no need to edit this cell\n",
    "KEYWORD      = 'cryo_exp_{}_128x128'.format(DATA_KEY)\n",
    "CHECKPT_FILE = 'cryo_exp_{}_l{}_{}epoch_{}_checkpoint.pth'.format(DATA_KEY,L,CHECKPTH_KEY,EPOCH_NUMBER)\n",
    "DATASET_DIR     = '../train_val_datasets/'\n",
    "METADATASET_DIR = '../datasets/exp/20181005-rib-TEM4/Sort/'\n",
    "TRAINED_DIR     = '../train_vae/'\n",
    "TRAIN_DATASET_PATH     = DATASET_DIR+KEYWORD+'.npy'\n",
    "TRAIN_METADATASET_PATH = METADATASET_DIR+'{}_{}_sort.h5'.format(METADATA_KEY,CLASS_NUMBER)\n",
    "TRAINED_CHECKPOINT     = 'epoch_'+str(EPOCH_NUMBER)+'_checkpoint.pth'\n",
    "#\n",
    "print('> Storing results in {}'.format(KEYWORD))\n",
    "if not os.path.exists(KEYWORD):\n",
    "    os.makedirs(KEYWORD)\n",
    "if not os.path.exists(KEYWORD+'/train_vae'):\n",
    "    os.makedirs(KEYWORD+'/train_vae')\n",
    "if not os.path.isfile(KEYWORD+'/train_vae/'+TRAINED_CHECKPOINT):\n",
    "    shutil.copyfile(TRAINED_DIR+CHECKPT_FILE, KEYWORD+'/train_vae/'+TRAINED_CHECKPOINT)\n",
    "else:\n",
    "    print('no need to copy {} again. Already found in {}/train_vae ...'.format(TRAINED_CHECKPOINT, KEYWORD))"
   ]
  },
  {
   "cell_type": "markdown",
   "metadata": {},
   "source": [
    "# Load dataset, encoder and decoder"
   ]
  },
  {
   "cell_type": "code",
   "execution_count": null,
   "metadata": {},
   "outputs": [],
   "source": [
    "# this is juste convenient\n",
    "fig_force_update=False\n",
    "if fig_force_update_master:\n",
    "    fig_force_update=True"
   ]
  },
  {
   "cell_type": "code",
   "execution_count": null,
   "metadata": {},
   "outputs": [],
   "source": [
    "dataset = np.load(TRAIN_DATASET_PATH)\n",
    "metadata = h5py.File(TRAIN_METADATASET_PATH, 'r')\n",
    "#\n",
    "Zscore       = np.array(metadata['_rlnparticleselectzscore'])\n",
    "defocus_true = np.array(metadata['_rlndefocusu'])\n",
    "angle_true   = np.array(metadata['_rlnanglepsi'])\n",
    "print('dataset.shape {} metadata.shape {}'.format(dataset.shape, metadata['particles'].shape))\n",
    "#\n",
    "fig = plt.figure(figsize=(15,5))\n",
    "plt.subplot(1,3,1)\n",
    "plt.title('Zscore')\n",
    "plt.hist(Zscore, bins=100, log=True)\n",
    "plt.subplot(1,3,2)\n",
    "plt.title('defocus')\n",
    "plt.hist(defocus_true, bins=100, log=False)\n",
    "plt.subplot(1,3,3)\n",
    "plt.title('2d angle')\n",
    "plt.hist(angle_true, bins=100, log=False)\n",
    "fig.savefig(KEYWORD+'/data.png')"
   ]
  },
  {
   "cell_type": "code",
   "execution_count": null,
   "metadata": {},
   "outputs": [],
   "source": [
    "mus = []\n",
    "mus = fn.latent_projection(KEYWORD, TRAIN_DATASET_PATH, epoch_id=EPOCH_NUMBER)\n",
    "mus.shape"
   ]
  },
  {
   "cell_type": "code",
   "execution_count": null,
   "metadata": {},
   "outputs": [],
   "source": [
    "recon = []\n",
    "recon = fn.reconstruction(KEYWORD, torch.Tensor(mus[0:500,...]).cuda(), epoch_id=EPOCH_NUMBER)\n",
    "recon.shape"
   ]
  },
  {
   "cell_type": "code",
   "execution_count": null,
   "metadata": {},
   "outputs": [],
   "source": [
    "figname=KEYWORD+'/latent_space_biplot.png'\n",
    "#\n",
    "run_cell=False\n",
    "show_png=False\n",
    "if os.path.exists(figname):\n",
    "    if fig_force_update:\n",
    "        run_cell=True\n",
    "else:\n",
    "    run_cell=True\n",
    "#\n",
    "if run_cell:\n",
    "    viz.biplots(mus, prj2=mus,\n",
    "                n=4, nbins=100,\n",
    "                c=defocus_true,\n",
    "                c2=angle_true, c2map='twilight',\n",
    "                show_histo=False,\n",
    "                figname=figname\n",
    "               )\n",
    "Image(figname)"
   ]
  },
  {
   "cell_type": "code",
   "execution_count": null,
   "metadata": {},
   "outputs": [],
   "source": [
    "U, L, Vt = np.linalg.svd(mus - np.mean(mus,axis=0), full_matrices=False)"
   ]
  },
  {
   "cell_type": "code",
   "execution_count": null,
   "metadata": {},
   "outputs": [],
   "source": [
    "figname=KEYWORD+'/latent_space_pca_biplot.png'\n",
    "#\n",
    "run_cell=False\n",
    "if os.path.exists(figname):\n",
    "    if fig_force_update:\n",
    "        run_cell=True\n",
    "else:\n",
    "    run_cell=True\n",
    "#\n",
    "if run_cell:\n",
    "    viz.biplots(U, prj2=U,\n",
    "                n=4, nbins=100,\n",
    "                c=defocus_true,\n",
    "                c2=angle_true, c2map='twilight',\n",
    "                show_histo=False,\n",
    "                figname=figname\n",
    "               )\n",
    "Image(figname)"
   ]
  },
  {
   "cell_type": "markdown",
   "metadata": {
    "toc-hr-collapsed": false
   },
   "source": [
    "# Data curation"
   ]
  },
  {
   "cell_type": "code",
   "execution_count": null,
   "metadata": {},
   "outputs": [],
   "source": [
    "# this is juste convenient\n",
    "fig_force_update=False\n",
    "if fig_force_update_master:\n",
    "    fig_force_update=True"
   ]
  },
  {
   "cell_type": "markdown",
   "metadata": {},
   "source": [
    "## Outlier prediction"
   ]
  },
  {
   "cell_type": "code",
   "execution_count": null,
   "metadata": {},
   "outputs": [],
   "source": [
    "Zscore_set        = 2\n",
    "measure_threshold = 4\n",
    "methods     = ['robust_covar', 'isolation_forest', 'local_outlier_detection']\n",
    "method_best = methods[0]"
   ]
  },
  {
   "cell_type": "code",
   "execution_count": null,
   "metadata": {},
   "outputs": [],
   "source": [
    "positives = np.where(Zscore<Zscore_set)[0]\n",
    "negatives = np.where(Zscore>Zscore_set)[0]\n",
    "print('True positives: {} | True negatives: {}'.format(positives.shape[0],negatives.shape[0]))"
   ]
  },
  {
   "cell_type": "code",
   "execution_count": null,
   "metadata": {},
   "outputs": [],
   "source": [
    "fig = plt.figure(figsize=(6,6), dpi=180)\n",
    "plt.xlabel('False Positive Rate')\n",
    "plt.ylabel('True Positive Rate')\n",
    "for method in methods:\n",
    "    measure, offset, assignment = pred.outlier_measure(mus, method=method)\n",
    "    fpr, tpr, thresholds = metrics.roc_curve(np.where(Zscore<Zscore_set,0,1), measure)\n",
    "    plt.plot(fpr,tpr)\n",
    "    print('AUC({}) = {}'.format(method, metrics.auc(fpr, tpr)))\n",
    "plt.plot([0, 1], [0, 1], color='grey', lw=1, linestyle='--')\n",
    "plt.legend(methods)\n",
    "plt.grid()\n",
    "fig.savefig(KEYWORD+'/ROC_Zscore'+str(Zscore_set))\n",
    "#"
   ]
  },
  {
   "cell_type": "code",
   "execution_count": null,
   "metadata": {},
   "outputs": [],
   "source": [
    "measure, offset, assignment = pred.outlier_measure(mus, method=method_best)\n",
    "index_kept = np.where(measure<measure_threshold,0,1)"
   ]
  },
  {
   "cell_type": "code",
   "execution_count": null,
   "metadata": {},
   "outputs": [],
   "source": [
    "figname=KEYWORD+'/latent_space_{}_biplot.png'.format(method_best)\n",
    "#\n",
    "run_cell=False\n",
    "if os.path.exists(figname):\n",
    "    if fig_force_update:\n",
    "        run_cell=True\n",
    "else:\n",
    "    run_cell=True\n",
    "#\n",
    "if run_cell:\n",
    "    viz.biplots(mus, #prj2=U,\n",
    "                n=4, nbins=100,\n",
    "                c=measure,\n",
    "                show_histo=False,\n",
    "                majortick=0.5,\n",
    "                figname=figname\n",
    "               )\n",
    "Image(figname)"
   ]
  },
  {
   "cell_type": "code",
   "execution_count": null,
   "metadata": {},
   "outputs": [],
   "source": [
    "figname=KEYWORD+'/latent_space_{}_assigned_t{}_biplot.png'.format(method_best,measure_threshold)\n",
    "#\n",
    "run_cell=False\n",
    "if os.path.exists(figname):\n",
    "    if fig_force_update:\n",
    "        run_cell=True\n",
    "else:\n",
    "    run_cell=True\n",
    "#\n",
    "if run_cell:\n",
    "    viz.biplots(mus, #prj2=U,\n",
    "                n=4, nbins=100,\n",
    "                c=index_kept,\n",
    "                show_histo=False,\n",
    "                majortick=0.5,\n",
    "                figname=figname\n",
    "               )\n",
    "Image(figname)"
   ]
  },
  {
   "cell_type": "code",
   "execution_count": null,
   "metadata": {},
   "outputs": [],
   "source": [
    "mus_kept     = mus[index_kept==0,:]\n",
    "defocus_kept = defocus_true[index_kept==0]\n",
    "angle_kept   = angle_true[index_kept==0]\n",
    "Zscore_kept  = Zscore[index_kept==0]\n",
    "print(mus_kept.shape)"
   ]
  },
  {
   "cell_type": "markdown",
   "metadata": {},
   "source": [
    "## Remove user-defined outliers\n",
    "\n",
    "In our case, knowledge of metadata helps getting rid of \"bad\" data (i.e. defocus values out of reasonable range)"
   ]
  },
  {
   "cell_type": "code",
   "execution_count": null,
   "metadata": {},
   "outputs": [],
   "source": [
    "index = np.where((defocus_kept>5000)  & (defocus_kept < 25000))[0]\n",
    "mus_curated     = mus_kept[index,:]\n",
    "angle_curated   = angle_kept[index]\n",
    "defocus_curated = defocus_kept[index]\n",
    "Zscore_curated  = Zscore_kept[index]\n",
    "print(mus_curated.shape)"
   ]
  },
  {
   "cell_type": "code",
   "execution_count": null,
   "metadata": {},
   "outputs": [],
   "source": [
    "U_curated, L_curated, Vt_curated = np.linalg.svd(mus_curated - np.mean(mus_curated,axis=0), full_matrices=False)"
   ]
  },
  {
   "cell_type": "code",
   "execution_count": null,
   "metadata": {},
   "outputs": [],
   "source": [
    "figname=KEYWORD+'/latent_space_curated_t{}_biplot.png'.format(measure_threshold)\n",
    "#\n",
    "run_cell=False\n",
    "if os.path.exists(figname):\n",
    "    if fig_force_update:\n",
    "        run_cell=True\n",
    "else:\n",
    "    run_cell=True\n",
    "#\n",
    "if run_cell:\n",
    "    viz.biplots(mus_curated, prj2=mus_curated,\n",
    "                n=4, nbins=100,\n",
    "                c=defocus_curated,\n",
    "                c2=angle_curated, c2map='twilight',\n",
    "                show_histo=False,\n",
    "                majortick=0.5,\n",
    "                figname=figname\n",
    "               )\n",
    "Image(figname)"
   ]
  },
  {
   "cell_type": "code",
   "execution_count": null,
   "metadata": {},
   "outputs": [],
   "source": [
    "plt.plot(L_curated, 'Xk')\n",
    "plt.grid()"
   ]
  },
  {
   "cell_type": "code",
   "execution_count": null,
   "metadata": {},
   "outputs": [],
   "source": [
    "figname=KEYWORD+'/latent_space_pca_curated_t{}_biplot.png'.format(measure_threshold)\n",
    "#\n",
    "run_cell=False\n",
    "if os.path.exists(figname):\n",
    "    if fig_force_update:\n",
    "        run_cell=True\n",
    "else:\n",
    "    run_cell=True\n",
    "#\n",
    "if run_cell:\n",
    "    viz.biplots(U_curated, prj2=U_curated,\n",
    "                n=4, nbins=100,\n",
    "                c=defocus_curated,\n",
    "                c2=angle_curated, c2map='twilight',\n",
    "                show_histo=False,\n",
    "                minortick=np.std(U_curated[:,0])/2,\n",
    "                majortick=np.std(U_curated[:,0]),\n",
    "                figname=figname\n",
    "               )\n",
    "Image(figname)"
   ]
  },
  {
   "cell_type": "markdown",
   "metadata": {},
   "source": [
    "# Parameter prediction with truncated PCA"
   ]
  },
  {
   "cell_type": "code",
   "execution_count": null,
   "metadata": {},
   "outputs": [],
   "source": [
    "angle_true   = angle_curated + 180\n",
    "defocus_true = defocus_curated"
   ]
  },
  {
   "cell_type": "code",
   "execution_count": null,
   "metadata": {},
   "outputs": [],
   "source": [
    "U_truncated = U_curated[:,0:3]"
   ]
  },
  {
   "cell_type": "markdown",
   "metadata": {},
   "source": [
    "## circle prediction"
   ]
  },
  {
   "cell_type": "code",
   "execution_count": null,
   "metadata": {},
   "outputs": [],
   "source": [
    "angle_pred, defocus_pred = pred.pred2d(U_truncated, angle_true, defocus_true, \n",
    "                                       angle_pred_sign=-1.0,\n",
    "                                       defocus_min=5000,defocus_max=25000,\n",
    "                                       do_ellipse=False)"
   ]
  },
  {
   "cell_type": "code",
   "execution_count": null,
   "metadata": {},
   "outputs": [],
   "source": [
    "viz.plot_pred2d(angle_pred, defocus_pred, \n",
    "                angle_true, defocus_true, \n",
    "                figname=KEYWORD+'/polar_truncated_prediction_circle')"
   ]
  },
  {
   "cell_type": "code",
   "execution_count": null,
   "metadata": {},
   "outputs": [],
   "source": [
    "offset_range = np.arange(20,40,1)\n",
    "angle_RMSE_list, defocus_RMSE = pred.pred2d_mse(angle_pred, defocus_pred, \n",
    "                                                angle_true, defocus_true, \n",
    "                                                angle_offset_range=offset_range)\n",
    "plt.plot(offset_range,angle_RMSE_list)"
   ]
  },
  {
   "cell_type": "markdown",
   "metadata": {},
   "source": [
    "## weighted circle prediction"
   ]
  },
  {
   "cell_type": "code",
   "execution_count": null,
   "metadata": {},
   "outputs": [],
   "source": [
    "defocus_pred_normalized = pred.rescale_to_zero_one(defocus_pred)"
   ]
  },
  {
   "cell_type": "code",
   "execution_count": null,
   "metadata": {},
   "outputs": [],
   "source": [
    "offset_range = np.arange(52,58,0.25)\n",
    "angle_RMSE_list, defocus_RMSE = pred.pred2d_mse(angle_pred, defocus_pred, \n",
    "                                                angle_true, defocus_true, \n",
    "                                                angle_offset_range=offset_range,\n",
    "                                                angle_weight=(np.exp(defocus_pred_normalized)-1), \n",
    "                                                norm_weights=True)\n",
    "plt.plot(offset_range,angle_RMSE_list)"
   ]
  },
  {
   "cell_type": "markdown",
   "metadata": {},
   "source": [
    "## ellipse prediction"
   ]
  },
  {
   "cell_type": "code",
   "execution_count": null,
   "metadata": {},
   "outputs": [],
   "source": [
    "angle_pred, defocus_pred = pred.pred2d(U_truncated, angle_true, defocus_true, \n",
    "                                       angle_pred_sign=-1.0,\n",
    "                                       defocus_min=5000,defocus_max=25000,\n",
    "                                       do_ellipse=True)"
   ]
  },
  {
   "cell_type": "code",
   "execution_count": null,
   "metadata": {},
   "outputs": [],
   "source": [
    "viz.plot_pred2d(angle_pred, defocus_pred, \n",
    "                angle_true, defocus_true, \n",
    "                figname=KEYWORD+'/polar_truncated_prediction_ellipse')"
   ]
  },
  {
   "cell_type": "code",
   "execution_count": null,
   "metadata": {},
   "outputs": [],
   "source": [
    "offset_range = np.arange(22,26,0.25)\n",
    "angle_RMSE_list, defocus_RMSE = pred.pred2d_mse(angle_pred, defocus_pred, \n",
    "                                                angle_true, defocus_true, \n",
    "                                                angle_offset_range=offset_range)\n",
    "plt.plot(offset_range,angle_RMSE_list)"
   ]
  },
  {
   "cell_type": "markdown",
   "metadata": {},
   "source": [
    "## weighted ellipse prediction"
   ]
  },
  {
   "cell_type": "code",
   "execution_count": null,
   "metadata": {},
   "outputs": [],
   "source": [
    "defocus_pred_normalized = pred.rescale_to_zero_one(defocus_pred)"
   ]
  },
  {
   "cell_type": "code",
   "execution_count": null,
   "metadata": {},
   "outputs": [],
   "source": [
    "offset_range = np.arange(100,104,0.25)\n",
    "angle_RMSE_list, defocus_RMSE = pred.pred2d_mse(angle_pred, defocus_pred, \n",
    "                                                angle_true, defocus_true, \n",
    "                                                angle_offset_range=offset_range,\n",
    "                                                angle_weight=(np.exp(defocus_pred_normalized)-1), \n",
    "                                                norm_weights=True)\n",
    "plt.plot(offset_range,angle_RMSE_list)"
   ]
  },
  {
   "cell_type": "markdown",
   "metadata": {},
   "source": [
    "## cone prediction (2D)\n",
    "\n",
    "*Careful!* We get rid of the first dimension here..."
   ]
  },
  {
   "cell_type": "code",
   "execution_count": null,
   "metadata": {},
   "outputs": [],
   "source": [
    "U_best = pred.rotate_to_fit_cone(U_truncated,10000)"
   ]
  },
  {
   "cell_type": "code",
   "execution_count": null,
   "metadata": {},
   "outputs": [],
   "source": [
    "figname=KEYWORD+'/latent_space_pca_curated_t{}_cone_truncated_rotated_biplot.png'.format(measure_threshold)\n",
    "#\n",
    "run_cell=False\n",
    "if os.path.exists(figname):\n",
    "    if fig_force_update:\n",
    "        run_cell=True\n",
    "else:\n",
    "    run_cell=True\n",
    "#\n",
    "if run_cell:\n",
    "    viz.biplots(U_best, prj2=U_best,\n",
    "                n=3, nbins=100,\n",
    "                c=defocus_curated,\n",
    "                c2=angle_curated, c2map='twilight',\n",
    "                show_histo=False,\n",
    "                minortick=np.std(U_curated[:,0])/2,\n",
    "                majortick=np.std(U_curated[:,0]),\n",
    "                figname=figname\n",
    "               )\n",
    "Image(figname)"
   ]
  },
  {
   "cell_type": "code",
   "execution_count": null,
   "metadata": {},
   "outputs": [],
   "source": [
    "fig = plt.figure(figsize=(12,8))\n",
    "plt.subplot(2,3,1)\n",
    "plt.hexbin(U_truncated[:,0],np.linalg.norm(U_truncated[:,1:3],axis=1), mincnt=1, gridsize=30)\n",
    "plt.subplot(2,3,2)\n",
    "plt.hexbin(U_truncated[:,1],np.linalg.norm(U_truncated[:,0:3:2],axis=1), mincnt=1, gridsize=30)\n",
    "plt.subplot(2,3,3)\n",
    "plt.hexbin(U_truncated[:,2],np.linalg.norm(U_truncated[:,0:2],axis=1), mincnt=1, gridsize=30)\n",
    "plt.subplot(2,3,4)\n",
    "plt.hexbin(U_best[:,0],np.linalg.norm(U_best[:,1:3],axis=1), mincnt=1, gridsize=30)\n",
    "plt.subplot(2,3,5)\n",
    "plt.hexbin(U_best[:,1],np.linalg.norm(U_best[:,0:3:2],axis=1), mincnt=1, gridsize=30)\n",
    "plt.subplot(2,3,6)\n",
    "plt.hexbin(U_best[:,2],np.linalg.norm(U_best[:,0:2],axis=1), mincnt=1, gridsize=30)"
   ]
  },
  {
   "cell_type": "code",
   "execution_count": null,
   "metadata": {},
   "outputs": [],
   "source": [
    "angle_pred, defocus_pred = pred.pred2d(U_best, angle_true, defocus_true, \n",
    "                                       angle_pred_sign=1.0,\n",
    "                                       defocus_min=5000,defocus_max=25000,\n",
    "                                       do_ellipse=True)"
   ]
  },
  {
   "cell_type": "code",
   "execution_count": null,
   "metadata": {},
   "outputs": [],
   "source": [
    "viz.plot_pred2d(angle_pred, defocus_pred, \n",
    "                angle_true, defocus_true, \n",
    "                figname=KEYWORD+'/polar_truncated_prediction_cone')"
   ]
  },
  {
   "cell_type": "code",
   "execution_count": null,
   "metadata": {},
   "outputs": [],
   "source": [
    "offset_range = np.arange(123,126,0.25)\n",
    "angle_RMSE_list, defocus_RMSE = pred.pred2d_mse(angle_pred, defocus_pred, \n",
    "                                                angle_true, defocus_true, \n",
    "                                                angle_offset_range=offset_range)\n",
    "plt.plot(offset_range,angle_RMSE_list)"
   ]
  },
  {
   "cell_type": "code",
   "execution_count": null,
   "metadata": {},
   "outputs": [],
   "source": [
    "defocus_pred_normalized = pred.rescale_to_zero_one(defocus_pred)"
   ]
  },
  {
   "cell_type": "code",
   "execution_count": null,
   "metadata": {},
   "outputs": [],
   "source": [
    "offset_range =  np.arange(250,255,0.25)\n",
    "angle_RMSE_list, defocus_RMSE = pred.pred2d_mse(angle_pred, defocus_pred, \n",
    "                                                angle_true, defocus_true, \n",
    "                                                angle_offset_range=offset_range,\n",
    "                                                angle_weight=(np.exp(defocus_pred_normalized)-1), norm_weights=True)\n",
    "plt.plot(offset_range,angle_RMSE_list)"
   ]
  },
  {
   "cell_type": "code",
   "execution_count": null,
   "metadata": {},
   "outputs": [],
   "source": []
  },
  {
   "cell_type": "markdown",
   "metadata": {},
   "source": [
    "# Parameter prediction with full PCA"
   ]
  },
  {
   "cell_type": "markdown",
   "metadata": {},
   "source": [
    "## circle prediction"
   ]
  },
  {
   "cell_type": "code",
   "execution_count": null,
   "metadata": {},
   "outputs": [],
   "source": [
    "angle_pred, defocus_pred = pred.pred2d(U_curated, angle_true, defocus_true, \n",
    "                                       angle_pred_sign=-1.0,\n",
    "                                       defocus_min=5000,defocus_max=25000,\n",
    "                                       do_ellipse=False)"
   ]
  },
  {
   "cell_type": "code",
   "execution_count": null,
   "metadata": {},
   "outputs": [],
   "source": [
    "viz.plot_pred2d(angle_pred, defocus_pred, \n",
    "                angle_true, defocus_true, \n",
    "                figname=KEYWORD+'/polar_prediction_circle')"
   ]
  },
  {
   "cell_type": "code",
   "execution_count": null,
   "metadata": {},
   "outputs": [],
   "source": [
    "offset_range = np.arange(25,28,0.25)\n",
    "angle_RMSE_list, defocus_RMSE = pred.pred2d_mse(angle_pred, defocus_pred, \n",
    "                                                angle_true, defocus_true, \n",
    "                                                angle_offset_range=offset_range)\n",
    "plt.plot(offset_range,angle_RMSE_list)"
   ]
  },
  {
   "cell_type": "markdown",
   "metadata": {},
   "source": [
    "## weighted circle prediction"
   ]
  },
  {
   "cell_type": "code",
   "execution_count": null,
   "metadata": {},
   "outputs": [],
   "source": [
    "defocus_pred_normalized = pred.rescale_to_zero_one(defocus_pred)"
   ]
  },
  {
   "cell_type": "code",
   "execution_count": null,
   "metadata": {},
   "outputs": [],
   "source": [
    "offset_range = np.arange(52,58,0.25)\n",
    "angle_RMSE_list, defocus_RMSE = pred.pred2d_mse(angle_pred, defocus_pred, \n",
    "                                                angle_true, defocus_true, \n",
    "                                                angle_offset_range=offset_range,\n",
    "                                                angle_weight=(np.exp(defocus_pred_normalized)-1), \n",
    "                                                norm_weights=True)\n",
    "plt.plot(offset_range,angle_RMSE_list)"
   ]
  },
  {
   "cell_type": "markdown",
   "metadata": {},
   "source": [
    "## ellipse prediction"
   ]
  },
  {
   "cell_type": "code",
   "execution_count": null,
   "metadata": {},
   "outputs": [],
   "source": [
    "angle_pred, defocus_pred = pred.pred2d(U_curated, angle_true, defocus_true, \n",
    "                                       angle_pred_sign=-1.0,\n",
    "                                       defocus_min=5000,defocus_max=25000,\n",
    "                                       do_ellipse=True)"
   ]
  },
  {
   "cell_type": "code",
   "execution_count": null,
   "metadata": {},
   "outputs": [],
   "source": [
    "viz.plot_pred2d(angle_pred, defocus_pred, \n",
    "                angle_true, defocus_true, \n",
    "                figname=KEYWORD+'/polar_prediction_ellipse')"
   ]
  },
  {
   "cell_type": "code",
   "execution_count": null,
   "metadata": {},
   "outputs": [],
   "source": [
    "offset_range = np.arange(22,26,0.25)\n",
    "angle_RMSE_list, defocus_RMSE = pred.pred2d_mse(angle_pred, defocus_pred, \n",
    "                                                angle_true, defocus_true, \n",
    "                                                angle_offset_range=offset_range)\n",
    "plt.plot(offset_range,angle_RMSE_list)"
   ]
  },
  {
   "cell_type": "markdown",
   "metadata": {},
   "source": [
    "## weighted ellipse prediction"
   ]
  },
  {
   "cell_type": "code",
   "execution_count": null,
   "metadata": {},
   "outputs": [],
   "source": [
    "defocus_pred_normalized = pred.rescale_to_zero_one(defocus_pred)"
   ]
  },
  {
   "cell_type": "code",
   "execution_count": null,
   "metadata": {},
   "outputs": [],
   "source": [
    "offset_range = np.arange(100,104,0.25)\n",
    "angle_RMSE_list, defocus_RMSE = pred.pred2d_mse(angle_pred, defocus_pred, \n",
    "                                                angle_true, defocus_true, \n",
    "                                                angle_offset_range=offset_range,\n",
    "                                                angle_weight=(np.exp(defocus_pred_normalized)-1), \n",
    "                                                norm_weights=True)\n",
    "plt.plot(offset_range,angle_RMSE_list)"
   ]
  },
  {
   "cell_type": "markdown",
   "metadata": {},
   "source": [
    "## cone prediction (2D)\n",
    "\n",
    "*Careful!* We get rid of the first dimension here..."
   ]
  },
  {
   "cell_type": "code",
   "execution_count": null,
   "metadata": {},
   "outputs": [],
   "source": [
    "U_best = pred.rotate_to_fit_cone_2d(U_curated[:,1:],10000)"
   ]
  },
  {
   "cell_type": "code",
   "execution_count": null,
   "metadata": {},
   "outputs": [],
   "source": [
    "figname=KEYWORD+'/latent_space_pca_curated_t{}_cone_pickdim_rotated_biplot.png'.format(measure_threshold)\n",
    "#\n",
    "run_cell=False\n",
    "if os.path.exists(figname):\n",
    "    if fig_force_update:\n",
    "        run_cell=True\n",
    "else:\n",
    "    run_cell=True\n",
    "#\n",
    "if run_cell:\n",
    "    viz.biplots(U_best, prj2=U_best,\n",
    "                n=3, nbins=100,\n",
    "                c=defocus_curated,\n",
    "                c2=angle_curated, c2map='twilight',\n",
    "                show_histo=False,\n",
    "                minortick=np.std(U_curated[:,0])/2,\n",
    "                majortick=np.std(U_curated[:,0]),\n",
    "                figname=figname\n",
    "               )\n",
    "Image(figname)"
   ]
  },
  {
   "cell_type": "code",
   "execution_count": null,
   "metadata": {},
   "outputs": [],
   "source": [
    "fig = plt.figure(figsize=(12,8))\n",
    "plt.subplot(2,3,1)\n",
    "plt.hexbin(U_curated[:,0],np.linalg.norm(U_curated[:,1:3],axis=1), mincnt=1, gridsize=30)\n",
    "plt.subplot(2,3,2)\n",
    "plt.hexbin(U_curated[:,1],np.linalg.norm(U_curated[:,0:3:2],axis=1), mincnt=1, gridsize=30)\n",
    "plt.subplot(2,3,3)\n",
    "plt.hexbin(U_curated[:,2],np.linalg.norm(U_curated[:,0:2],axis=1), mincnt=1, gridsize=30)\n",
    "plt.subplot(2,3,4)\n",
    "plt.hexbin(U_best[:,0],np.linalg.norm(U_best[:,1:3],axis=1), mincnt=1, gridsize=30)\n",
    "plt.subplot(2,3,5)\n",
    "plt.hexbin(U_best[:,1],np.linalg.norm(U_best[:,0:3:2],axis=1), mincnt=1, gridsize=30)\n",
    "plt.subplot(2,3,6)\n",
    "plt.hexbin(U_best[:,2],np.linalg.norm(U_best[:,0:2],axis=1), mincnt=1, gridsize=30)"
   ]
  },
  {
   "cell_type": "code",
   "execution_count": null,
   "metadata": {},
   "outputs": [],
   "source": [
    "angle_pred, defocus_pred = pred.pred2d(U_best, angle_true, defocus_true, \n",
    "                                       angle_pred_sign=1.0,\n",
    "                                       defocus_min=5000,defocus_max=25000,\n",
    "                                       do_ellipse=True)"
   ]
  },
  {
   "cell_type": "code",
   "execution_count": null,
   "metadata": {},
   "outputs": [],
   "source": [
    "viz.plot_pred2d(angle_pred, defocus_pred, \n",
    "                angle_true, defocus_true, \n",
    "                figname=KEYWORD+'/polar_prediction_cone')"
   ]
  },
  {
   "cell_type": "code",
   "execution_count": null,
   "metadata": {},
   "outputs": [],
   "source": [
    "offset_range = np.arange(123,126,0.25)\n",
    "angle_RMSE_list, defocus_RMSE = pred.pred2d_mse(angle_pred, defocus_pred, \n",
    "                                                angle_true, defocus_true, \n",
    "                                                angle_offset_range=offset_range)\n",
    "plt.plot(offset_range,angle_RMSE_list)"
   ]
  },
  {
   "cell_type": "code",
   "execution_count": null,
   "metadata": {},
   "outputs": [],
   "source": [
    "defocus_pred_normalized = pred.rescale_to_zero_one(defocus_pred)"
   ]
  },
  {
   "cell_type": "code",
   "execution_count": null,
   "metadata": {},
   "outputs": [],
   "source": [
    "offset_range =  np.arange(250,255,0.25)\n",
    "angle_RMSE_list, defocus_RMSE = pred.pred2d_mse(angle_pred, defocus_pred, \n",
    "                                                angle_true, defocus_true, \n",
    "                                                angle_offset_range=offset_range,\n",
    "                                                angle_weight=(np.exp(defocus_pred_normalized)-1), norm_weights=True)\n",
    "plt.plot(offset_range,angle_RMSE_list)"
   ]
  },
  {
   "cell_type": "markdown",
   "metadata": {},
   "source": [
    "## cone prediction (any dimension)"
   ]
  },
  {
   "cell_type": "code",
   "execution_count": null,
   "metadata": {},
   "outputs": [],
   "source": [
    "U_best = pred.rotate_to_fit_cone(U_curated,10000)"
   ]
  },
  {
   "cell_type": "code",
   "execution_count": null,
   "metadata": {},
   "outputs": [],
   "source": [
    "figname=KEYWORD+'/latent_space_pca_curated_t{}_cone_rotated_biplot.png'.format(measure_threshold)\n",
    "#\n",
    "run_cell=False\n",
    "if os.path.exists(figname):\n",
    "    if fig_force_update:\n",
    "        run_cell=True\n",
    "else:\n",
    "    run_cell=True\n",
    "#\n",
    "run_cell=True\n",
    "if run_cell:\n",
    "    viz.biplots(U_best, prj2=U_best,\n",
    "                n=4, nbins=100,\n",
    "                c=defocus_curated,\n",
    "                c2=angle_curated, c2map='twilight',\n",
    "                show_histo=False,\n",
    "                minortick=np.std(U_curated[:,0])/2,\n",
    "                majortick=np.std(U_curated[:,0]),\n",
    "                figname=figname\n",
    "               )\n",
    "Image(figname)"
   ]
  },
  {
   "cell_type": "code",
   "execution_count": null,
   "metadata": {},
   "outputs": [],
   "source": []
  },
  {
   "cell_type": "code",
   "execution_count": null,
   "metadata": {},
   "outputs": [],
   "source": []
  },
  {
   "cell_type": "markdown",
   "metadata": {},
   "source": [
    "# the end"
   ]
  },
  {
   "cell_type": "code",
   "execution_count": null,
   "metadata": {},
   "outputs": [],
   "source": [
    "def rotate_to_fit_cone(X,ntry):\n",
    "    dim = X.shape[1]\n",
    "    score_list = []\n",
    "    rotmat = np.identity(dim) #np.diag([1,1,1])\n",
    "    X_rotated = np.dot(rotmat,X.T).T\n",
    "    dist = pred.rescale_to_zero_one(np.linalg.norm(X_rotated[:,0:dim-1],axis=1))\n",
    "    popt, pcov = pred.curve_fit(pred.linear_1d, X_rotated[:,dim-1], dist)\n",
    "    score = np.abs(popt[0])\n",
    "    #\n",
    "    score_max  = score\n",
    "    rotmat_max = rotmat\n",
    "    ibest = 0\n",
    "    score_list.append(score)\n",
    "    #\n",
    "    print('   current best ({}/{}): {}'.format(ibest,ntry,score_max))\n",
    "    for i in np.arange(1,ntry):\n",
    "        rotmat = pred.special_ortho_group.rvs(dim)\n",
    "        X_rotated = np.dot(rotmat,X.T).T\n",
    "        dist = pred.rescale_to_zero_one(np.linalg.norm(X_rotated[:,0:dim-1],axis=1))\n",
    "        popt, pcov = pred.curve_fit(pred.linear_1d, X_rotated[:,dim-1], dist)\n",
    "        score = np.abs(popt[0])\n",
    "        if(score > score_max):\n",
    "            score_max = score\n",
    "            ibest = i\n",
    "            rotmat_max = rotmat\n",
    "            print('   current best ({}/{}): {}'.format(ibest,ntry,score_max))\n",
    "        score_list.append(score)\n",
    "    X_best = np.dot(rotmat_max, X.T).T\n",
    "    fig = plt.figure()\n",
    "    plt.hist(score_list, bins=np.int(ntry/10))\n",
    "    plt.show()\n",
    "    return X_best\n"
   ]
  },
  {
   "cell_type": "code",
   "execution_count": null,
   "metadata": {},
   "outputs": [],
   "source": []
  }
 ],
 "metadata": {
  "kernelspec": {
   "display_name": "Python 3",
   "language": "python",
   "name": "python3"
  },
  "language_info": {
   "codemirror_mode": {
    "name": "ipython",
    "version": 3
   },
   "file_extension": ".py",
   "mimetype": "text/x-python",
   "name": "python",
   "nbconvert_exporter": "python",
   "pygments_lexer": "ipython3",
   "version": "3.6.3"
  }
 },
 "nbformat": 4,
 "nbformat_minor": 4
}
