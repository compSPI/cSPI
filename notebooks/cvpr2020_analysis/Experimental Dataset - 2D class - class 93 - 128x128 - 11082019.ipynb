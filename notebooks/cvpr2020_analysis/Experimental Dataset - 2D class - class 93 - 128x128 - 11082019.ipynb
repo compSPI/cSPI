{
 "cells": [
  {
   "cell_type": "markdown",
   "metadata": {},
   "source": [
    "Experimental Dataset - 2D class - class 93 - 128x128"
   ]
  },
  {
   "cell_type": "markdown",
   "metadata": {},
   "source": [
    "# Setup"
   ]
  },
  {
   "cell_type": "code",
   "execution_count": null,
   "metadata": {},
   "outputs": [],
   "source": [
    "%matplotlib inline\n",
    "import os, sys, glob, shutil\n",
    "from matplotlib import pyplot as plt\n",
    "import numpy as np\n",
    "import torch\n",
    "import h5py\n",
    "from sklearn import metrics\n",
    "sys.path.append('../utils/')\n",
    "import functions_for_fred as fn\n",
    "import nn\n",
    "import viz\n",
    "import pred"
   ]
  },
  {
   "cell_type": "code",
   "execution_count": null,
   "metadata": {},
   "outputs": [],
   "source": [
    "print('we are here {}'.format(os.getcwd()))"
   ]
  },
  {
   "cell_type": "code",
   "execution_count": null,
   "metadata": {},
   "outputs": [],
   "source": [
    "KEYWORD      = 'cryo_exp_class_2d_93_128x128'\n",
    "CHECKPT_FILE = 'cryo_exp_class_2d_93_epoch_255_checkpoint.pth'\n",
    "EPOCH_NUMBER = 255"
   ]
  },
  {
   "cell_type": "code",
   "execution_count": null,
   "metadata": {},
   "outputs": [],
   "source": [
    "DATASET_DIR     = '../train_val_datasets/'\n",
    "METADATASET_DIR = '../datasets/exp/20181005-rib-TEM4/Sort/'\n",
    "TRAINED_DIR = '../train_vae/'\n",
    "TRAIN_DATASET_PATH     = DATASET_DIR+KEYWORD+'.npy'\n",
    "TRAIN_METADATASET_PATH = METADATASET_DIR+'class2D_93_sort.h5'\n",
    "TRAINED_CHECKPOINT     = 'epoch_'+str(EPOCH_NUMBER)+'_checkpoint.pth'\n",
    "if not os.path.exists(KEYWORD):\n",
    "    os.makedirs(KEYWORD)\n",
    "if not os.path.exists(KEYWORD+'/train_vae'):\n",
    "    os.makedirs(KEYWORD+'/train_vae')\n",
    "if not os.path.isfile(KEYWORD+'/train_vae/'+TRAINED_CHECKPOINT):\n",
    "    shutil.copyfile(TRAINED_DIR+CHECKPT_FILE, KEYWORD+'/train_vae/'+TRAINED_CHECKPOINT)"
   ]
  },
  {
   "cell_type": "markdown",
   "metadata": {},
   "source": [
    "# Load dataset, encoder and decoder"
   ]
  },
  {
   "cell_type": "code",
   "execution_count": null,
   "metadata": {},
   "outputs": [],
   "source": [
    "dataset = np.load(TRAIN_DATASET_PATH)\n",
    "metadata = h5py.File(TRAIN_METADATASET_PATH, 'r')\n",
    "print('dataset.shape {} metadata.shape {}'.format(dataset.shape, metadata['particles'].shape))"
   ]
  },
  {
   "cell_type": "code",
   "execution_count": null,
   "metadata": {},
   "outputs": [],
   "source": [
    "mus = []\n",
    "mus = fn.latent_projection(KEYWORD, TRAIN_DATASET_PATH, epoch_id=EPOCH_NUMBER)\n",
    "mus.shape"
   ]
  },
  {
   "cell_type": "code",
   "execution_count": null,
   "metadata": {},
   "outputs": [],
   "source": [
    "recon = []\n",
    "recon = fn.reconstruction(KEYWORD, torch.Tensor(mus[0:500,...]).cuda(), epoch_id=EPOCH_NUMBER)\n",
    "recon.shape"
   ]
  },
  {
   "cell_type": "code",
   "execution_count": null,
   "metadata": {},
   "outputs": [],
   "source": [
    "list(metadata.keys())"
   ]
  },
  {
   "cell_type": "code",
   "execution_count": null,
   "metadata": {},
   "outputs": [],
   "source": [
    "Zscore = np.array(metadata['_rlnparticleselectzscore'])\n",
    "plt.hist(Zscore, bins=100, log=True)\n",
    "plt.show()\n",
    "print(np.mean(Zscore), np.std(Zscore))"
   ]
  },
  {
   "cell_type": "code",
   "execution_count": null,
   "metadata": {},
   "outputs": [],
   "source": [
    "defocus = np.array(metadata['_rlndefocusu'])\n",
    "plt.hist(defocus, bins=100, log=False)\n",
    "plt.show()\n",
    "print(np.min(defocus),np.mean(defocus), np.std(defocus))"
   ]
  },
  {
   "cell_type": "code",
   "execution_count": null,
   "metadata": {},
   "outputs": [],
   "source": [
    "viz.biplots(mus, n=4, show_histo=True, nbins=100, c=metadata['_rlndefocusu'], \n",
    "            figname=KEYWORD+'/latent_space_defocus_true')"
   ]
  },
  {
   "cell_type": "code",
   "execution_count": null,
   "metadata": {},
   "outputs": [],
   "source": [
    "center = np.mean(mus,axis=0) #np.zeros(mus.shape) #\n",
    "U, L, Vt = np.linalg.svd(mus - center, full_matrices=False)"
   ]
  },
  {
   "cell_type": "code",
   "execution_count": null,
   "metadata": {},
   "outputs": [],
   "source": [
    "plt.plot(L, 'o')"
   ]
  },
  {
   "cell_type": "code",
   "execution_count": null,
   "metadata": {},
   "outputs": [],
   "source": [
    "viz.biplots(U, n=3, show_histo=True, nbins=100, c=metadata['_rlndefocusu'], \n",
    "            figname=KEYWORD+'/latent_space_pca_defocus_true')"
   ]
  },
  {
   "cell_type": "markdown",
   "metadata": {
    "toc-hr-collapsed": false
   },
   "source": [
    "# Data curation"
   ]
  },
  {
   "cell_type": "markdown",
   "metadata": {},
   "source": [
    "## Outlier prediction"
   ]
  },
  {
   "cell_type": "code",
   "execution_count": null,
   "metadata": {},
   "outputs": [],
   "source": [
    "Zscore_set=2"
   ]
  },
  {
   "cell_type": "code",
   "execution_count": null,
   "metadata": {},
   "outputs": [],
   "source": [
    "positives = np.where(Zscore<Zscore_set)[0]\n",
    "negatives = np.where(Zscore>Zscore_set)[0]\n",
    "print(positives.shape,negatives.shape)"
   ]
  },
  {
   "cell_type": "code",
   "execution_count": null,
   "metadata": {},
   "outputs": [],
   "source": [
    "methods = ['robust_covar', 'isolation_forest', 'local_outlier_detection']\n",
    "#\n",
    "fig = plt.figure(figsize=(6,6), dpi=180)\n",
    "plt.xlabel('False Positive Rate')\n",
    "plt.ylabel('True Positive Rate')\n",
    "for method in methods:\n",
    "    measure, offset, assignment = pred.outlier_measure(mus, method=method)\n",
    "    fpr, tpr, thresholds = metrics.roc_curve(np.where(Zscore<Zscore_set,0,1), measure)\n",
    "    plt.plot(fpr,tpr)\n",
    "    print('AUC({}) = {}'.format(method, metrics.auc(fpr, tpr)))\n",
    "plt.plot([0, 1], [0, 1], color='grey', lw=1, linestyle='--')\n",
    "plt.legend(methods)\n",
    "plt.grid()\n",
    "fig.savefig(KEYWORD+'/ROC_Zscore'+str(Zscore_set))\n",
    "#"
   ]
  },
  {
   "cell_type": "code",
   "execution_count": null,
   "metadata": {},
   "outputs": [],
   "source": [
    "measure, offset, assignment = pred.outlier_measure(mus, method='robust_covar')"
   ]
  },
  {
   "cell_type": "code",
   "execution_count": null,
   "metadata": {},
   "outputs": [],
   "source": [
    "viz.biplots(mus, n=4, show_histo=True, nbins=100, c=measure, figname=KEYWORD+'/latent_space_robust_covar')"
   ]
  },
  {
   "cell_type": "code",
   "execution_count": null,
   "metadata": {},
   "outputs": [],
   "source": [
    "measure_threshold=3"
   ]
  },
  {
   "cell_type": "code",
   "execution_count": null,
   "metadata": {},
   "outputs": [],
   "source": [
    "viz.biplots(mus, n=4, show_histo=True, nbins=100, c=np.where(measure<measure_threshold,0,1), \n",
    "            figname=KEYWORD+'/latent_space_robust_covar_assigned')"
   ]
  },
  {
   "cell_type": "code",
   "execution_count": null,
   "metadata": {},
   "outputs": [],
   "source": [
    "mus_kept = mus[np.where(measure<measure_threshold),:][0,...]\n",
    "print(mus_kept.shape)\n",
    "defocus_kept = np.array(metadata['_rlndefocusu'])[np.where(measure<measure_threshold)]\n",
    "print(defocus_kept.shape)\n",
    "angle_kept = np.array(metadata['_rlnanglepsi'])[np.where(measure<measure_threshold)]\n",
    "print(angle_kept.shape)\n",
    "Zscore_kept = np.array(metadata['_rlnparticleselectzscore'])[np.where(measure<measure_threshold)]\n",
    "print(Zscore_kept.shape)"
   ]
  },
  {
   "cell_type": "code",
   "execution_count": null,
   "metadata": {},
   "outputs": [],
   "source": [
    "viz.biplots(mus_kept, n=4, show_histo=True, nbins=100, c=defocus_kept)"
   ]
  },
  {
   "cell_type": "code",
   "execution_count": null,
   "metadata": {},
   "outputs": [],
   "source": [
    "viz.biplots(mus_kept, n=4, show_histo=True, nbins=100, c=angle_kept)"
   ]
  },
  {
   "cell_type": "markdown",
   "metadata": {},
   "source": [
    "## Remove user-defined outliers\n",
    "\n",
    "In our case, knowledge of metadata helps getting rid of \"bad\" data (i.e. defocus values out of reasonable range)"
   ]
  },
  {
   "cell_type": "code",
   "execution_count": null,
   "metadata": {},
   "outputs": [],
   "source": [
    "index = np.where((defocus_kept>5000)  & (defocus_kept < 25000))[0]\n",
    "mus_curated     = mus_kept[index,:]\n",
    "angle_curated   = angle_kept[index]\n",
    "defocus_curated = defocus_kept[index]\n",
    "Zscore_curated  = Zscore_kept[index]"
   ]
  },
  {
   "cell_type": "markdown",
   "metadata": {},
   "source": [
    "# Project in PCA space"
   ]
  },
  {
   "cell_type": "code",
   "execution_count": null,
   "metadata": {},
   "outputs": [],
   "source": [
    "center_curated = np.mean(mus_curated,axis=0) #np.zeros(mus.shape) #\n",
    "U_curated, L_curated, Vt_curated = np.linalg.svd(mus_curated - center_curated, full_matrices=False)"
   ]
  },
  {
   "cell_type": "code",
   "execution_count": null,
   "metadata": {},
   "outputs": [],
   "source": [
    "plt.plot(L_curated, 'ko')\n",
    "plt.title('eigenvalues (curated)')\n",
    "plt.grid()\n",
    "plt.show()"
   ]
  },
  {
   "cell_type": "code",
   "execution_count": null,
   "metadata": {},
   "outputs": [],
   "source": [
    "viz.biplots(U_curated, n=4, show_histo=True, nbins=100, c=angle_curated)"
   ]
  },
  {
   "cell_type": "code",
   "execution_count": null,
   "metadata": {},
   "outputs": [],
   "source": [
    "viz.biplots(U_curated, n=4, show_histo=True, nbins=100, c=defocus_curated)"
   ]
  },
  {
   "cell_type": "markdown",
   "metadata": {},
   "source": [
    "# Parameter prediction"
   ]
  },
  {
   "cell_type": "markdown",
   "metadata": {},
   "source": [
    "## General quadric fitting"
   ]
  },
  {
   "cell_type": "code",
   "execution_count": null,
   "metadata": {},
   "outputs": [],
   "source": [
    "# eventually just keep the first data points (for rapid testing)\n",
    "sub_sample = U_curated.shape[0] \n",
    "# define data array to be fitted\n",
    "data = U_curated[0:sub_sample,0:3]\n",
    "# add t vector to data, and define y=0 vector\n",
    "x = np.concatenate((data.T,np.ones((1,data.shape[0]))),axis=0)\n",
    "y = np.zeros(data.shape[0])\n",
    "print(x.shape, y.shape)"
   ]
  },
  {
   "cell_type": "code",
   "execution_count": null,
   "metadata": {},
   "outputs": [],
   "source": [
    "viz.biplots(data, n=3, show_histo=True, nbins=100, c=angle_curated[0:sub_sample])"
   ]
  },
  {
   "cell_type": "code",
   "execution_count": null,
   "metadata": {},
   "outputs": [],
   "source": [
    "dim = x.shape[0]\n",
    "popt, pcov = pred.curve_fit(pred.quadric_model,\n",
    "                       x,y,\n",
    "                       p0=np.ones((np.int(dim*(dim+1)/2))) #p0=[1,-1,-1,0,0,0,0,0,0,0.1]\n",
    "                      )"
   ]
  },
  {
   "cell_type": "code",
   "execution_count": null,
   "metadata": {},
   "outputs": [],
   "source": [
    "fitData = pred.quadric_model(x, *popt)\n",
    "plt.hist(fitData, bins=100)\n",
    "plt.show()"
   ]
  },
  {
   "cell_type": "code",
   "execution_count": null,
   "metadata": {},
   "outputs": [],
   "source": [
    "A = pred.quadric_matrix(4,*popt)\n",
    "print(A)\n",
    "plt.imshow(A)\n",
    "plt.colorbar()\n",
    "plt.show()"
   ]
  },
  {
   "cell_type": "code",
   "execution_count": null,
   "metadata": {},
   "outputs": [],
   "source": [
    "D, P = np.linalg.eig(A)\n",
    "print(np.linalg.det(np.diag(D)), np.linalg.matrix_rank(A))\n",
    "plt.plot(D, 'X')\n",
    "plt.grid()\n",
    "plt.show()\n",
    "plt.imshow(P)\n",
    "plt.colorbar()"
   ]
  },
  {
   "cell_type": "markdown",
   "metadata": {},
   "source": [
    "### Projection in reduced space"
   ]
  },
  {
   "cell_type": "code",
   "execution_count": null,
   "metadata": {},
   "outputs": [],
   "source": [
    "x_oriented = np.dot(P,x).T\n",
    "x_oriented.shape"
   ]
  },
  {
   "cell_type": "code",
   "execution_count": null,
   "metadata": {},
   "outputs": [],
   "source": [
    "viz.biplots(x_oriented, n=4, show_histo=True, nbins=100, c=defocus_curated[0:sub_sample])"
   ]
  },
  {
   "cell_type": "code",
   "execution_count": null,
   "metadata": {},
   "outputs": [],
   "source": [
    "viz.biplots(x_oriented, n=4, show_histo=True, nbins=100, c=angle_curated[0:sub_sample])"
   ]
  },
  {
   "cell_type": "markdown",
   "metadata": {},
   "source": [
    "### Final rescaling "
   ]
  },
  {
   "cell_type": "code",
   "execution_count": null,
   "metadata": {},
   "outputs": [],
   "source": [
    "x_scaled = np.copy(x_oriented)\n",
    "for i in np.arange(3):\n",
    "    x_scaled[:,i] /= x_oriented[:,3]\n",
    "    #x_scaled[:,i] /= 1e12*np.maximum(x_oriented[:,3],1e-12)"
   ]
  },
  {
   "cell_type": "code",
   "execution_count": null,
   "metadata": {},
   "outputs": [],
   "source": [
    "viz.biplots(x_scaled, n=3, show_histo=True, nbins=100, c=defocus_curated[0:sub_sample])"
   ]
  },
  {
   "cell_type": "code",
   "execution_count": null,
   "metadata": {},
   "outputs": [],
   "source": [
    "viz.biplots(x_scaled, n=3, show_histo=True, nbins=100, c=angle_curated[0:sub_sample])"
   ]
  },
  {
   "cell_type": "markdown",
   "metadata": {},
   "source": [
    "## Simple ellipse fitting"
   ]
  },
  {
   "cell_type": "code",
   "execution_count": null,
   "metadata": {},
   "outputs": [],
   "source": [
    "angle_true   = angle_curated + 180\n",
    "defocus_true = defocus_curated"
   ]
  },
  {
   "cell_type": "code",
   "execution_count": null,
   "metadata": {},
   "outputs": [],
   "source": [
    "viz.biplots(U_curated, n=3, show_histo=True, nbins=100, c=angle_true)"
   ]
  },
  {
   "cell_type": "code",
   "execution_count": null,
   "metadata": {},
   "outputs": [],
   "source": [
    "viz.biplots(U_curated, n=3, show_histo=True, nbins=100, c=defocus_true)"
   ]
  },
  {
   "cell_type": "code",
   "execution_count": null,
   "metadata": {},
   "outputs": [],
   "source": [
    "viz.biplots(U_curated, n=3, show_histo=True, nbins=100, c=np.where(Zscore_curated>1,1,0))"
   ]
  },
  {
   "cell_type": "code",
   "execution_count": null,
   "metadata": {},
   "outputs": [],
   "source": [
    "angle_pred, defocus_pred = pred.pred2d(U_curated,  angle_true, defocus_true, \n",
    "                                       angle_pred_sign=1.0,\n",
    "                                       defocus_min=5000,defocus_max=25000,\n",
    "                                       do_ellipse=True)"
   ]
  },
  {
   "cell_type": "code",
   "execution_count": null,
   "metadata": {},
   "outputs": [],
   "source": [
    "viz.plot_pred2d(angle_pred, defocus_pred, \n",
    "                angle_true, defocus_true, \n",
    "                metadata=angle_pred,\n",
    "                figname=KEYWORD+'/polar_prediction_ellipse_rest')"
   ]
  },
  {
   "cell_type": "code",
   "execution_count": null,
   "metadata": {},
   "outputs": [],
   "source": [
    "plt.hexbin(defocus_true,defocus_pred,gridsize=25,mincnt=1)"
   ]
  },
  {
   "cell_type": "code",
   "execution_count": null,
   "metadata": {},
   "outputs": [],
   "source": [
    "angle_RMSE_list, defocus_RMSE = pred.pred2d_mse(angle_pred, defocus_pred, \n",
    "                                                angle_true, defocus_true, \n",
    "                                                angle_offset_range=np.arange(-10,-5,0.25))\n",
    "plt.plot(angle_RMSE_list)"
   ]
  },
  {
   "cell_type": "markdown",
   "metadata": {},
   "source": [
    "### weight angle RMSE with defocus pred"
   ]
  },
  {
   "cell_type": "code",
   "execution_count": null,
   "metadata": {},
   "outputs": [],
   "source": [
    "defocus_pred_normalized = pred.rescale_to_zero_one(defocus_pred)\n",
    "plt.plot(defocus_pred_normalized)"
   ]
  },
  {
   "cell_type": "code",
   "execution_count": null,
   "metadata": {},
   "outputs": [],
   "source": [
    "angle_RMSE_list, defocus_RMSE = pred.pred2d_mse(angle_pred, defocus_pred, \n",
    "                                                angle_true, defocus_true, \n",
    "                                                angle_offset_range=np.arange(-94,-90,0.25),\n",
    "                                                angle_weight=None, norm_weights=True)\n",
    "plt.plot(angle_RMSE_list)"
   ]
  },
  {
   "cell_type": "code",
   "execution_count": null,
   "metadata": {},
   "outputs": [],
   "source": [
    "angle_RMSE_list, defocus_RMSE = pred.pred2d_mse(angle_pred, defocus_pred, \n",
    "                                                angle_true, defocus_true, \n",
    "                                                angle_offset_range=np.arange(-96,-92,0.25),\n",
    "                                                angle_weight=(np.exp(defocus_pred_normalized)-1), norm_weights=True)\n",
    "plt.plot(angle_RMSE_list)"
   ]
  },
  {
   "cell_type": "code",
   "execution_count": null,
   "metadata": {},
   "outputs": [],
   "source": [
    "angle_RMSE_list, defocus_RMSE = pred.pred2d_mse(angle_pred, defocus_pred, \n",
    "                                                angle_true, defocus_true, \n",
    "                                                angle_offset_range=np.arange(-94,-90,0.25),\n",
    "                                                angle_weight=np.exp(-np.abs(Zscore[index])), norm_weights=True)\n",
    "plt.plot(angle_RMSE_list)"
   ]
  }
 ],
 "metadata": {
  "kernelspec": {
   "display_name": "Python 3",
   "language": "python",
   "name": "python3"
  },
  "language_info": {
   "codemirror_mode": {
    "name": "ipython",
    "version": 3
   },
   "file_extension": ".py",
   "mimetype": "text/x-python",
   "name": "python",
   "nbconvert_exporter": "python",
   "pygments_lexer": "ipython3",
   "version": "3.6.3"
  }
 },
 "nbformat": 4,
 "nbformat_minor": 4
}
