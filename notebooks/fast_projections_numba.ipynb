{
  "nbformat": 4,
  "nbformat_minor": 0,
  "metadata": {
    "colab": {
      "name": "fast_projections_numba.ipynb",
      "provenance": [],
      "collapsed_sections": [],
      "toc_visible": true,
      "machine_shape": "hm",
      "authorship_tag": "ABX9TyOG40zDrJHJIOBgb4GG2ndk",
      "include_colab_link": true
    },
    "kernelspec": {
      "name": "python3",
      "display_name": "Python 3"
    },
    "language_info": {
      "name": "python"
    },
    "accelerator": "GPU"
  },
  "cells": [
    {
      "cell_type": "markdown",
      "metadata": {
        "id": "view-in-github",
        "colab_type": "text"
      },
      "source": [
        "<a href=\"https://colab.research.google.com/github/geoffwoollard/compSPI/blob/gw/notebooks/fast_projections_numba.ipynb\" target=\"_parent\"><img src=\"https://colab.research.google.com/assets/colab-badge.svg\" alt=\"Open In Colab\"/></a>"
      ]
    },
    {
      "cell_type": "markdown",
      "metadata": {
        "id": "MtW9EPOPsK_W"
      },
      "source": [
        "# Goal\n",
        "Implement += with no race condition\n",
        "* https://stackoverflow.com/questions/59596794/understanding-this-race-condition-in-numba-parallelization\n",
        "* https://stackoverflow.com/questions/61372937/avoid-race-condition-in-numba\n",
        "* https://numba.pydata.org/numba-doc/latest/user/parallel.html"
      ]
    },
    {
      "cell_type": "markdown",
      "metadata": {
        "id": "IyaPWOJ-SF41"
      },
      "source": [
        "# Setup"
      ]
    },
    {
      "cell_type": "code",
      "metadata": {
        "colab": {
          "base_uri": "https://localhost:8080/"
        },
        "id": "joRa_Ufjsors",
        "outputId": "4d0aaada-ff9d-4134-a8e6-145881f587a4"
      },
      "source": [
        "!rm coords.py, gauss_forward_model.py\n",
        "!wget https://raw.githubusercontent.com/geoffwoollard/compSPI/80bdda9ae51c462baaefd2cdefb860cb4ef72167/src/coords.py\n",
        "!wget https://raw.githubusercontent.com/geoffwoollard/compSPI/80bdda9ae51c462baaefd2cdefb860cb4ef72167/src/gauss_forward_model.py\n",
        "import coords, gauss_forward_model"
      ],
      "execution_count": 4,
      "outputs": [
        {
          "output_type": "stream",
          "text": [
            "rm: cannot remove 'coords.py,': No such file or directory\n",
            "--2021-04-17 18:33:08--  https://raw.githubusercontent.com/geoffwoollard/compSPI/80bdda9ae51c462baaefd2cdefb860cb4ef72167/src/coords.py\n",
            "Resolving raw.githubusercontent.com (raw.githubusercontent.com)... 185.199.108.133, 185.199.109.133, 185.199.110.133, ...\n",
            "Connecting to raw.githubusercontent.com (raw.githubusercontent.com)|185.199.108.133|:443... connected.\n",
            "HTTP request sent, awaiting response... 200 OK\n",
            "Length: 2603 (2.5K) [text/plain]\n",
            "Saving to: ‘coords.py.10’\n",
            "\n",
            "coords.py.10        100%[===================>]   2.54K  --.-KB/s    in 0s      \n",
            "\n",
            "2021-04-17 18:33:08 (42.1 MB/s) - ‘coords.py.10’ saved [2603/2603]\n",
            "\n",
            "--2021-04-17 18:33:08--  https://raw.githubusercontent.com/geoffwoollard/compSPI/80bdda9ae51c462baaefd2cdefb860cb4ef72167/src/gauss_forward_model.py\n",
            "Resolving raw.githubusercontent.com (raw.githubusercontent.com)... 185.199.108.133, 185.199.109.133, 185.199.110.133, ...\n",
            "Connecting to raw.githubusercontent.com (raw.githubusercontent.com)|185.199.108.133|:443... connected.\n",
            "HTTP request sent, awaiting response... 200 OK\n",
            "Length: 5453 (5.3K) [text/plain]\n",
            "Saving to: ‘gauss_forward_model.py’\n",
            "\n",
            "gauss_forward_model 100%[===================>]   5.33K  --.-KB/s    in 0s      \n",
            "\n",
            "2021-04-17 18:33:09 (39.4 MB/s) - ‘gauss_forward_model.py’ saved [5453/5453]\n",
            "\n"
          ],
          "name": "stdout"
        }
      ]
    },
    {
      "cell_type": "code",
      "metadata": {
        "id": "dcmE1BeZs6wB"
      },
      "source": [
        "import numpy as np\n",
        "import numba as nb\n",
        "import pandas as pd\n",
        "import math\n",
        "import matplotlib.pyplot as plt\n",
        "def doplt(arr2d,cmap='gray',**kwargs):\n",
        "  plt.imshow(arr2d,cmap=cmap,**kwargs)"
      ],
      "execution_count": 1,
      "outputs": []
    },
    {
      "cell_type": "markdown",
      "metadata": {
        "id": "fROU3_DwSLS_"
      },
      "source": [
        "# Atoms, grid, precomputed idx"
      ]
    },
    {
      "cell_type": "code",
      "metadata": {
        "colab": {
          "base_uri": "https://localhost:8080/"
        },
        "id": "wVCO4ZJdtAWE",
        "outputId": "fd837033-757f-4cc4-d575-1d1079154269"
      },
      "source": [
        "n_atoms = 300\n",
        "N = 16\n",
        "pad = 0.2\n",
        "np.random.seed(0)\n",
        "atoms = np.random.uniform(low=-N/2+pad*N,high=N/2-pad*N,size=3*n_atoms).reshape(3,n_atoms)\n",
        "atoms.shape"
      ],
      "execution_count": 34,
      "outputs": [
        {
          "output_type": "execute_result",
          "data": {
            "text/plain": [
              "(3, 300)"
            ]
          },
          "metadata": {
            "tags": []
          },
          "execution_count": 34
        }
      ]
    },
    {
      "cell_type": "code",
      "metadata": {
        "id": "IKDH7RvEtq9U"
      },
      "source": [
        "xy = coords.coords_n_by_d(np.arange(-N//2,N//2),d=2)"
      ],
      "execution_count": 38,
      "outputs": []
    },
    {
      "cell_type": "code",
      "metadata": {
        "colab": {
          "base_uri": "https://localhost:8080/"
        },
        "id": "T2J_VglXs1_b",
        "outputId": "41f1eb4e-5a59-4b3a-cdc1-ca0d8e12a57a"
      },
      "source": [
        "N = np.sqrt(xy.shape[0]).astype(int)\n",
        "X = np.round(atoms[0]).astype(np.int32) + N//2\n",
        "Y = np.round(atoms[1]).astype(np.int32) + N//2\n",
        "idx = X+N*Y\n",
        "idx\n"
      ],
      "execution_count": 39,
      "outputs": [
        {
          "output_type": "execute_result",
          "data": {
            "text/plain": [
              "array([200, 186, 105,  72, 119,  89,  71,  76, 172,  55, 187,  88,  73,\n",
              "        76, 164, 100, 115, 155, 187, 172, 109,  75,  72, 107, 100, 137,\n",
              "       165, 172, 104, 119,  86, 187,  72, 169, 179, 185, 105, 121, 156,\n",
              "       106, 119,  87, 138,  68, 186,  74, 133, 100, 150, 199, 153,  71,\n",
              "       125, 132, 133, 165, 105,  70, 120, 198,  85, 196, 138, 133, 197,\n",
              "       135, 171, 116, 203, 164, 173, 104, 173, 153, 106,  84, 182, 196,\n",
              "       134, 148, 182, 135, 196, 154, 185, 198, 184,  84, 153, 124,  70,\n",
              "       122, 100, 186,  70, 197, 121, 115,  59,  83, 122, 198,  74, 204,\n",
              "       198, 137, 105,  89, 149,  76,  55, 123,  74, 102,  91, 103,  76,\n",
              "        57,  76, 154, 218, 216, 124,  89, 151, 137, 211,  70, 186, 102,\n",
              "       105, 167, 101, 166, 137, 121, 153, 105, 169, 119, 124, 183, 199,\n",
              "        76,  91, 122, 180, 220, 218, 205, 101, 220, 101,  73, 196,  91,\n",
              "       171,  73, 167, 196, 106, 120, 122, 172,  93,  91, 131, 103, 186,\n",
              "        85, 136, 196, 149, 195, 203, 165, 167, 204, 218, 132,  69, 105,\n",
              "        89, 117,  76, 153, 120, 201, 202, 134, 103, 149, 197, 124, 138,\n",
              "       104, 133, 118, 100, 135, 102, 122, 135, 165,  99, 196, 186,  72,\n",
              "       104, 124,  77, 117, 170, 166, 147, 170,  86, 103, 169, 203, 137,\n",
              "       108,  54, 171,  53, 124, 138, 197,  76, 122,  54, 101, 152,  99,\n",
              "        85,  71, 151, 168, 166, 201,  59, 148, 152, 148, 202,  55, 169,\n",
              "       181, 133, 104, 183,  76, 123, 138, 172,  68,  89, 121, 156, 198,\n",
              "       150,  68, 211, 204, 138, 203, 134, 201, 180, 200, 205,  76,  86,\n",
              "       124, 197, 108,  92, 203, 121, 204,  86, 171, 121,  67, 167, 101,\n",
              "        77,  72,  72, 201, 167, 197, 171, 133, 104, 213, 116, 139, 125,\n",
              "       220], dtype=int32)"
            ]
          },
          "metadata": {
            "tags": []
          },
          "execution_count": 39
        }
      ]
    },
    {
      "cell_type": "code",
      "metadata": {
        "colab": {
          "base_uri": "https://localhost:8080/",
          "height": 265
        },
        "id": "XmHfTJosvXv-",
        "outputId": "74a44fd2-f041-4901-cc71-4988dd8a90d4"
      },
      "source": [
        "delta = np.zeros(N*N)\n",
        "delta[idx]=1\n",
        "doplt(delta.reshape(N,N))"
      ],
      "execution_count": 40,
      "outputs": [
        {
          "output_type": "display_data",
          "data": {
            "image/png": "[encoded data removed]",
            "text/plain": [
              "<Figure size 432x288 with 1 Axes>"
            ]
          },
          "metadata": {
            "tags": [],
            "needs_background": "light"
          }
        }
      ]
    },
    {
      "cell_type": "markdown",
      "metadata": {
        "id": "WKt6kb6fSPXe"
      },
      "source": [
        "# `make_map_3d.sum`"
      ]
    },
    {
      "cell_type": "code",
      "metadata": {
        "id": "q84L7jiyvygG"
      },
      "source": [
        "sigma=.5\n",
        "xyz = coords.coords_n_by_d(np.arange(-N//2,N//2),d=3)\n",
        "map_3d = gauss_forward_model.make_map_3d(atoms,xyz,N,sigma)"
      ],
      "execution_count": 41,
      "outputs": []
    },
    {
      "cell_type": "code",
      "metadata": {
        "colab": {
          "base_uri": "https://localhost:8080/",
          "height": 265
        },
        "id": "wKjPXpQawEhH",
        "outputId": "1c96f86d-8aac-4fd0-ddbb-904f5532baa5"
      },
      "source": [
        "doplt(map_3d.sum(-1).T)"
      ],
      "execution_count": 42,
      "outputs": [
        {
          "output_type": "display_data",
          "data": {
            "image/png": "[encoded data removed]",
            "text/plain": [
              "<Figure size 432x288 with 1 Axes>"
            ]
          },
          "metadata": {
            "tags": [],
            "needs_background": "light"
          }
        }
      ]
    },
    {
      "cell_type": "code",
      "metadata": {
        "id": "UjMqOELTsIrk"
      },
      "source": [
        "@nb.njit(parallel=True)\n",
        "def parallel_add_patch_including_diff(xy,N,atoms,idx,n_trunc,sigma):\n",
        "  nt_ = (n_trunc-1)//2\n",
        "  a = -1/(2*sigma**2)\n",
        "  g_2d = np.zeros(N*N)\n",
        "  for i in nb.prange(idx.shape[0]): # loop over atoms\n",
        "    patch_line = np.arange(idx[i]-nt_,idx[i]+nt_+1,1)\n",
        "    for y_line in nb.prange(-nt_,+nt_+1,1):\n",
        "      one_gauss_patch_y_line_idxs = patch_line + y_line*N\n",
        "\n",
        "      diffx = xy[one_gauss_patch_y_line_idxs,0] - atoms[0,i]\n",
        "      diffy = xy[one_gauss_patch_y_line_idxs[0],1] - atoms[1,i] # all ys the same\n",
        "      d2i = diffx*diffx+diffy*diffy\n",
        "      gi_y_line = np.exp(a*d2i)\n",
        "      \n",
        "      g_2d[one_gauss_patch_y_line_idxs] += gi_y_line\n",
        "\n",
        "  return(g_2d)"
      ],
      "execution_count": 43,
      "outputs": []
    },
    {
      "cell_type": "code",
      "metadata": {
        "id": "2WyxaV2bt76r"
      },
      "source": [
        "sigma=.5\n",
        "g_2d = parallel_add_patch_including_diff(xy,N,atoms,idx,n_trunc=int(6*sigma),sigma=sigma)\n"
      ],
      "execution_count": 49,
      "outputs": []
    },
    {
      "cell_type": "code",
      "metadata": {
        "colab": {
          "base_uri": "https://localhost:8080/",
          "height": 265
        },
        "id": "f4d8uve4uFUk",
        "outputId": "1a73684d-34d0-4e49-c69e-48bfa6b460b4"
      },
      "source": [
        "doplt(g_2d.reshape(N,N))"
      ],
      "execution_count": 48,
      "outputs": [
        {
          "output_type": "display_data",
          "data": {
            "image/png": "[encoded data removed]",
            "text/plain": [
              "<Figure size 432x288 with 1 Axes>"
            ]
          },
          "metadata": {
            "tags": [],
            "needs_background": "light"
          }
        }
      ]
    },
    {
      "cell_type": "markdown",
      "metadata": {
        "id": "V6dD7BJDIDl6"
      },
      "source": [
        "Although everything look alright, it actually isn't. There is a racing condition in the code in the += to a slice of an array, which isn't supported. Running the function twice ends up with two different answers because of the racing condition. "
      ]
    },
    {
      "cell_type": "code",
      "metadata": {
        "id": "3D5wwu2iIDJx"
      },
      "source": [
        "g_2d_1 = parallel_add_patch_including_diff(xy,N,atoms,idx,n_trunc=int(6*sigma),sigma=sigma)\n",
        "g_2d_2 = parallel_add_patch_including_diff(xy,N,atoms,idx,n_trunc=int(6*sigma),sigma=sigma)"
      ],
      "execution_count": null,
      "outputs": []
    },
    {
      "cell_type": "code",
      "metadata": {
        "colab": {
          "base_uri": "https://localhost:8080/",
          "height": 265
        },
        "id": "hKyPvOH4H0bD",
        "outputId": "8fb0406b-4cf3-4a16-c821-7c642bbc9334"
      },
      "source": [
        "doplt((g_2d_1-g_2d_2).reshape(N,N))"
      ],
      "execution_count": 53,
      "outputs": [
        {
          "output_type": "display_data",
          "data": {
            "image/png": "[encoded data removed]",
            "text/plain": [
              "<Figure size 432x288 with 1 Axes>"
            ]
          },
          "metadata": {
            "tags": [],
            "needs_background": "light"
          }
        }
      ]
    },
    {
      "cell_type": "markdown",
      "metadata": {
        "id": "FoFxdyRy-wpz"
      },
      "source": [
        "It doesn't seem possible to solve the rance condition still using prange and +=, since we will have to add into an array element. Instead let's try something else in numba"
      ]
    },
    {
      "cell_type": "markdown",
      "metadata": {
        "id": "E53kIu5H-7x3"
      },
      "source": [
        "# `nb.guvectorize`"
      ]
    },
    {
      "cell_type": "markdown",
      "metadata": {
        "id": "2aZLdeml_3c4"
      },
      "source": [
        "## warm up example"
      ]
    },
    {
      "cell_type": "code",
      "metadata": {
        "id": "3ZKqZ2fa-8wY"
      },
      "source": [
        "@nb.guvectorize([(nb.int64[:], nb.int64, nb.int64[:])], '(n),()->(n)')\n",
        "def g(x, y, res):\n",
        "    for i in range(x.shape[0]):\n",
        "        res[i] = x[i] + y"
      ],
      "execution_count": 21,
      "outputs": []
    },
    {
      "cell_type": "code",
      "metadata": {
        "colab": {
          "base_uri": "https://localhost:8080/"
        },
        "id": "847OR1ru_PUh",
        "outputId": "0393902d-dd6d-45f1-88e3-de5c74dea87e"
      },
      "source": [
        "res = np.zeros(3).astype(np.int64)\n",
        "g(np.arange(3),10,res)"
      ],
      "execution_count": 22,
      "outputs": [
        {
          "output_type": "execute_result",
          "data": {
            "text/plain": [
              "array([10, 11, 12])"
            ]
          },
          "metadata": {
            "tags": []
          },
          "execution_count": 22
        }
      ]
    },
    {
      "cell_type": "markdown",
      "metadata": {
        "id": "6Jb2r3Sk_7nR"
      },
      "source": [
        "## 1D window"
      ]
    },
    {
      "cell_type": "code",
      "metadata": {
        "colab": {
          "base_uri": "https://localhost:8080/",
          "height": 282
        },
        "id": "O1XBLiyT_5ps",
        "outputId": "d5a9e3ad-325e-4f24-8b97-2a692f378c08"
      },
      "source": [
        "idx = np.array([10,20,30])\n",
        "# atoms = np.zeros((2,3))\n",
        "# atoms = idx + 0.1\n",
        "atoms = np.zeros((2,3))\n",
        "atoms[0] = idx + 0.1\n",
        "\n",
        "empty = np.zeros(40)\n",
        "res = np.zeros(40)\n",
        "@nb.guvectorize([(nb.float64[:],nb.float64[:,:], nb.int64[:], nb.float64[:])], '(N2),(r2,n_atoms),(n_atoms)->(N2)')\n",
        "def g(empty,atoms, idx, res):\n",
        "    sigma=3.\n",
        "    for i in range(atoms.shape[1]):\n",
        "        for offset in range(-3,3):\n",
        "          #res[i] = atoms[i]\n",
        "          diff = atoms[0,i] - idx[i] - offset\n",
        "          res[idx[i]+offset] = np.exp(-diff*diff/sigma)\n",
        "    #return(res)\n",
        "pd.Series(g(empty,atoms, idx, res)).plot()"
      ],
      "execution_count": 26,
      "outputs": [
        {
          "output_type": "execute_result",
          "data": {
            "text/plain": [
              "<matplotlib.axes._subplots.AxesSubplot at 0x7fdae3aec3d0>"
            ]
          },
          "metadata": {
            "tags": []
          },
          "execution_count": 26
        },
        {
          "output_type": "display_data",
          "data": {
            "image/png": "[encoded data removed]",
            "text/plain": [
              "<Figure size 432x288 with 1 Axes>"
            ]
          },
          "metadata": {
            "tags": [],
            "needs_background": "light"
          }
        }
      ]
    },
    {
      "cell_type": "markdown",
      "metadata": {
        "id": "lACDCa1PFsuK"
      },
      "source": [
        "## 2D"
      ]
    },
    {
      "cell_type": "code",
      "metadata": {
        "colab": {
          "base_uri": "https://localhost:8080/"
        },
        "id": "nvMoClTRRntH",
        "outputId": "595d5e47-8dd7-4dcf-d26c-0f652343bf9f"
      },
      "source": [
        "n_atoms = 10000\n",
        "N = 128\n",
        "pad = 0.2\n",
        "np.random.seed(0)\n",
        "atoms = np.random.uniform(low=-N/2+pad*N,high=N/2-pad*N,size=3*n_atoms).reshape(3,n_atoms)\n",
        "atoms.shape"
      ],
      "execution_count": 7,
      "outputs": [
        {
          "output_type": "execute_result",
          "data": {
            "text/plain": [
              "(3, 10000)"
            ]
          },
          "metadata": {
            "tags": []
          },
          "execution_count": 7
        }
      ]
    },
    {
      "cell_type": "code",
      "metadata": {
        "id": "LjneCBIbTShL"
      },
      "source": [
        "xy = coords.coords_n_by_d(np.arange(-N//2,N//2),d=2)"
      ],
      "execution_count": 8,
      "outputs": []
    },
    {
      "cell_type": "code",
      "metadata": {
        "colab": {
          "base_uri": "https://localhost:8080/"
        },
        "id": "5_rSS_8GSCS7",
        "outputId": "40c82d2f-d018-4106-ddbd-c38aca8be4e3"
      },
      "source": [
        "N = np.sqrt(xy.shape[0]).astype(int)\n",
        "def idx_from_atoms(atoms,N):\n",
        "  X = np.round(atoms[0]).astype(np.int32) + N//2\n",
        "  Y = np.round(atoms[1]).astype(np.int32) + N//2\n",
        "  idx = X+N*Y\n",
        "  return(idx)\n",
        "idx = idx_from_atoms(atoms,N)\n",
        "%time idx_from_atoms(atoms,N)\n",
        "idx.shape"
      ],
      "execution_count": 9,
      "outputs": [
        {
          "output_type": "stream",
          "text": [
            "CPU times: user 0 ns, sys: 1.26 ms, total: 1.26 ms\n",
            "Wall time: 983 µs\n"
          ],
          "name": "stdout"
        },
        {
          "output_type": "execute_result",
          "data": {
            "text/plain": [
              "(10000,)"
            ]
          },
          "metadata": {
            "tags": []
          },
          "execution_count": 9
        }
      ]
    },
    {
      "cell_type": "markdown",
      "metadata": {
        "id": "-h0Bjuf66Uzs"
      },
      "source": [
        "### CPU"
      ]
    },
    {
      "cell_type": "code",
      "metadata": {
        "id": "kLyZbzkMFtg2"
      },
      "source": [
        "@nb.guvectorize([(nb.float64[:,:],nb.int64,nb.float64[:,:],nb.int64[:],nb.int64,nb.float64,nb.float64[:])], '(N2,r2),(),(r2,n_atoms),(n_atoms),(),()->(N2)',nopython=True,target='cpu')\n",
        "def precompute_idx_ntrunc(xy,N,atoms,idx,n_trunc,sigma,g_2d):\n",
        "  nt_ = (n_trunc-1)//2\n",
        "  a = -1/(2*sigma**2) # sigma in pixel units\n",
        "  for i in range(idx.shape[0]): # loop over atoms\n",
        "    for x_idx in range(idx[i]-nt_,idx[i]+nt_+1,1):\n",
        "      for y_idx in range(-nt_,+nt_+1,1):\n",
        "        xy_idx = x_idx + y_idx*N\n",
        "        diffx = xy[xy_idx,0] - atoms[0,i] # atom locations in pixel units\n",
        "        diffy = xy[xy_idx,1] - atoms[1,i]\n",
        "        d2i = diffx*diffx+diffy*diffy\n",
        "        gi = math.exp(a*d2i)\n",
        "        g_2d[xy_idx] += gi # check no racing condition\n",
        "# del g_2d\n",
        "g_2d = np.zeros(N*N)\n",
        "sigma=1\n",
        "n_trunc = np.int64(6*sigma)\n",
        "# g_2d = precompute_idx_ntrunc(xy,N,atoms[:2,:],idx,n_trunc,sigma,g_2d)"
      ],
      "execution_count": 49,
      "outputs": []
    },
    {
      "cell_type": "code",
      "metadata": {
        "colab": {
          "base_uri": "https://localhost:8080/"
        },
        "id": "jWgeqK_Xami3",
        "outputId": "85c482f0-9cf5-4077-8f53-c9ed937ca853"
      },
      "source": [
        "%time precompute_idx_ntrunc(xy,N,atoms[:2],idx,n_trunc,sigma,g_2d)\n",
        "g_2d = precompute_idx_ntrunc(xy,N,atoms[:2],idx,n_trunc,sigma,g_2d)"
      ],
      "execution_count": 50,
      "outputs": [
        {
          "output_type": "stream",
          "text": [
            "CPU times: user 10.6 ms, sys: 0 ns, total: 10.6 ms\n",
            "Wall time: 9.73 ms\n"
          ],
          "name": "stdout"
        }
      ]
    },
    {
      "cell_type": "code",
      "metadata": {
        "colab": {
          "base_uri": "https://localhost:8080/",
          "height": 268
        },
        "id": "Moh_KiFMN-gg",
        "outputId": "66042e57-dcba-42ea-ddd0-e2460775fdbe"
      },
      "source": [
        "doplt(g_2d.reshape(N,N))"
      ],
      "execution_count": 51,
      "outputs": [
        {
          "output_type": "display_data",
          "data": {
            "image/png": "[encoded data removed]",
            "text/plain": [
              "<Figure size 432x288 with 1 Axes>"
            ]
          },
          "metadata": {
            "tags": [],
            "needs_background": "light"
          }
        }
      ]
    },
    {
      "cell_type": "code",
      "metadata": {
        "colab": {
          "base_uri": "https://localhost:8080/"
        },
        "id": "rAD852bQM21J",
        "outputId": "3fe64479-78af-47a9-9402-e136dc18f0aa"
      },
      "source": [
        "N = 128\n",
        "pad = 0.2\n",
        "np.random.seed(0)\n",
        "xy = coords.coords_n_by_d(np.arange(-N//2,N//2),d=2)\n",
        "xy[:,[0,1]] = xy[:,[1,0]]\n",
        "sigma=.5\n",
        "n_trunc = np.int64(6*sigma)\n",
        "precompute_idx_ntrunc_t=[]\n",
        "parallel_add_patch_including_diff_t=[]\n",
        "n_atoms_list = [100,300,1000,3000,10000,30000,100000]\n",
        "for n_atoms in n_atoms_list:\n",
        "  atoms = np.random.uniform(low=-N/2+pad*N,high=N/2-pad*N,size=3*n_atoms).reshape(3,n_atoms)\n",
        "  X = np.round(atoms[0]).astype(np.int32) + N//2\n",
        "  Y = np.round(atoms[1]).astype(np.int32) + N//2\n",
        "  idx = X+N*Y\n",
        "  g_2d = np.zeros(N*N)\n",
        "  t = %timeit -o precompute_idx_ntrunc(xy,N,atoms[:2,:],idx,n_trunc,sigma,g_2d)\n",
        "  precompute_idx_ntrunc_t.append(t.best)\n",
        "\n",
        "  t = %timeit -o gauss_forward_model.parallel_add_patch_including_diff(xy,N,atoms,idx,n_trunc=n_trunc,sigma=sigma)\n",
        "  parallel_add_patch_including_diff_t.append(t.best)"
      ],
      "execution_count": 52,
      "outputs": [
        {
          "output_type": "stream",
          "text": [
            "10000 loops, best of 5: 28.2 µs per loop\n",
            "The slowest run took 10283.68 times longer than the fastest. This could mean that an intermediate result is being cached.\n",
            "1 loop, best of 5: 206 µs per loop\n",
            "The slowest run took 11.51 times longer than the fastest. This could mean that an intermediate result is being cached.\n",
            "10000 loops, best of 5: 69.5 µs per loop\n",
            "1000 loops, best of 5: 565 µs per loop\n",
            "1000 loops, best of 5: 224 µs per loop\n",
            "1000 loops, best of 5: 1.84 ms per loop\n",
            "1000 loops, best of 5: 625 µs per loop\n",
            "100 loops, best of 5: 5.47 ms per loop\n",
            "100 loops, best of 5: 2.05 ms per loop\n",
            "100 loops, best of 5: 18.6 ms per loop\n",
            "100 loops, best of 5: 6.06 ms per loop\n",
            "10 loops, best of 5: 56.3 ms per loop\n",
            "10 loops, best of 5: 20.5 ms per loop\n",
            "10 loops, best of 5: 180 ms per loop\n"
          ],
          "name": "stdout"
        }
      ]
    },
    {
      "cell_type": "code",
      "metadata": {
        "colab": {
          "base_uri": "https://localhost:8080/",
          "height": 315
        },
        "id": "lfcfSkKqUMWj",
        "outputId": "9c919f4b-7d8f-4d6a-f2a8-44addeafc920"
      },
      "source": [
        "s_to_ms=1000\n",
        "sr = pd.Series(precompute_idx_ntrunc_t)*s_to_ms\n",
        "sr.index = n_atoms_list\n",
        "sr.plot(logx=True,logy=True,label='precompute_idx_ntrunc',legend=True,marker='o')\n",
        "\n",
        "sr = pd.Series(parallel_add_patch_including_diff_t)*s_to_ms\n",
        "sr.index = n_atoms_list\n",
        "sr.plot(logx=True,logy=True,label='past_method_with_racing',legend=True,marker='x')\n",
        "\n",
        "plt.xlabel('num gaussians')\n",
        "plt.ylabel('%timeit (ms)')\n",
        "plt.title('2D projection scaling: %ix%i patch truncation'%(n_trunc,n_trunc))"
      ],
      "execution_count": 53,
      "outputs": [
        {
          "output_type": "execute_result",
          "data": {
            "text/plain": [
              "Text(0.5, 1.0, '2D projection scaling: 3x3 patch truncation')"
            ]
          },
          "metadata": {
            "tags": []
          },
          "execution_count": 53
        },
        {
          "output_type": "display_data",
          "data": {
            "image/png": "[encoded data removed]",
            "text/plain": [
              "<Figure size 432x288 with 1 Axes>"
            ]
          },
          "metadata": {
            "tags": [],
            "needs_background": "light"
          }
        }
      ]
    },
    {
      "cell_type": "code",
      "metadata": {
        "colab": {
          "base_uri": "https://localhost:8080/"
        },
        "id": "bW9WxJYoW3Hh",
        "outputId": "6376f237-fc5f-4c15-8e8b-7a1a1cc494cf"
      },
      "source": [
        "sr = pd.Series(precompute_idx_ntrunc_t)*s_to_ms\n",
        "sr.index = n_atoms_list\n",
        "\n",
        "(sr.iloc[-1] - sr.iloc[-2]) / (sr.index[-1]-sr.index[-2])"
      ],
      "execution_count": 54,
      "outputs": [
        {
          "output_type": "execute_result",
          "data": {
            "text/plain": [
              "0.0002066993571427247"
            ]
          },
          "metadata": {
            "tags": []
          },
          "execution_count": 54
        }
      ]
    },
    {
      "cell_type": "code",
      "metadata": {
        "colab": {
          "base_uri": "https://localhost:8080/"
        },
        "id": "dbaD_rwcXS8U",
        "outputId": "760553ac-37dc-4db7-e754-8a578e17f070"
      },
      "source": [
        "precompute_idx_ntrunc_t"
      ],
      "execution_count": 55,
      "outputs": [
        {
          "output_type": "execute_result",
          "data": {
            "text/plain": [
              "[2.8208245399991938e-05,\n",
              " 6.954824079998616e-05,\n",
              " 0.0002237097290001202,\n",
              " 0.0006251221800000621,\n",
              " 0.002052803659998972,\n",
              " 0.006057288300000891,\n",
              " 0.02052624329999162]"
            ]
          },
          "metadata": {
            "tags": []
          },
          "execution_count": 55
        }
      ]
    },
    {
      "cell_type": "markdown",
      "metadata": {
        "id": "RvANlGQGIc4K"
      },
      "source": [
        "#### rotation inside"
      ]
    },
    {
      "cell_type": "code",
      "metadata": {
        "colab": {
          "base_uri": "https://localhost:8080/"
        },
        "id": "lQ08OtyzIhID",
        "outputId": "12368450-10aa-4304-f5e9-6b97fa6bc160"
      },
      "source": [
        "%%time\n",
        "n_proj=100\n",
        "np.random.seed(0)\n",
        "qs = coords.get_random_quat(n_proj)\n",
        "Rs = coords.quaternion_to_R(qs.T)\n",
        "print(Rs.shape)"
      ],
      "execution_count": 94,
      "outputs": [
        {
          "output_type": "stream",
          "text": [
            "(3, 3, 100)\n",
            "CPU times: user 765 µs, sys: 0 ns, total: 765 µs\n",
            "Wall time: 618 µs\n"
          ],
          "name": "stdout"
        }
      ]
    },
    {
      "cell_type": "code",
      "metadata": {
        "id": "BW4ScON9Grx8",
        "colab": {
          "base_uri": "https://localhost:8080/"
        },
        "outputId": "3330aa5d-5a86-464d-ab8a-6cff65d9e952"
      },
      "source": [
        "%%time\n",
        "N_vec= N*np.ones(atoms.shape[1]).astype(np.int64)\n",
        "n_trunc_vec =n_trunc*np.ones(atoms.shape[1]).astype(np.int64)\n",
        "sigma_vec = sigma*np.ones(atoms.shape[1]).astype(np.float64)\n"
      ],
      "execution_count": 95,
      "outputs": [
        {
          "output_type": "stream",
          "text": [
            "CPU times: user 298 µs, sys: 0 ns, total: 298 µs\n",
            "Wall time: 340 µs\n"
          ],
          "name": "stdout"
        }
      ]
    },
    {
      "cell_type": "code",
      "metadata": {
        "id": "9Xaq_lpNGWMx"
      },
      "source": [
        "@nb.guvectorize([(nb.float64[:,:,:],nb.float64[:,:],nb.int64[:],nb.float64[:,:],nb.int64[:],nb.int64[:],nb.float64[:],nb.float64[:,:])], '(r2,r3,n_proj),(N2,r2),(n_atoms),(r3,n_atoms),(n_atoms),(n_atoms),(n_atoms)->(n_proj,N2)',nopython=True,target='cpu')\n",
        "def precompute_idx_ntrunc_rot_cpu(Rs,xy,N,atoms,idx,n_trunc,sigma,g_2d):\n",
        "  for proj_idx in range(Rs.shape[-1]):\n",
        "    R = Rs[:,:,proj_idx]\n",
        "    #atoms_rot = Rs[:2,:,proj_idx].dot(atoms) # only need to rotate x and y coord (only two of three rows in R)\n",
        "    #atoms_rot = np.dot(Rs[:2,:,proj_idx],atoms[:,:])\n",
        "\n",
        "    for i in range(idx.shape[0]): # loop over atoms\n",
        "      nt_ = (n_trunc[i]-1)//2\n",
        "      a = -1/(2*sigma[i]*sigma[i]) # sigma in pixel units\n",
        "\n",
        "      x = atoms[0,i]\n",
        "      y = atoms[1,i]\n",
        "      z = atoms[2,i]\n",
        "\n",
        "      # code dot product explicitly\n",
        "      x_rot = R[0,0]*x + R[0,1]*y + R[0,2]*z\n",
        "      y_rot = R[1,0]*x + R[1,1]*y + R[1,2]*z\n",
        "\n",
        "      X = round(x_rot) + N[i]//2\n",
        "      Y = round(y_rot) + N[i]//2\n",
        "      idx[i] = X+N[i]*Y\n",
        "\n",
        "      \n",
        "      for x_idx in range(idx[i]-nt_,idx[i]+nt_+1,1): \n",
        "        for y_idx in range(-nt_,+nt_+1,1):\n",
        "          xy_idx = x_idx + y_idx*N[i]\n",
        "          diffx = xy[xy_idx,0] - x_rot #atoms[0,i] # atom locations in pixel units\n",
        "          diffy = xy[xy_idx,1] - y_rot # atoms[1,i]\n",
        "          d2i = diffx*diffx+diffy*diffy\n",
        "          gi = math.exp(a*d2i)\n",
        "          g_2d[proj_idx,xy_idx] += gi # check no racing condition\n",
        "del g_2d\n",
        "g_2d = np.zeros((n_proj,N*N))\n",
        "g_2d = precompute_idx_ntrunc_rot_cpu(Rs[:2,:,:],xy,N_vec,atoms[:3,:],idx,n_trunc_vec,sigma_vec,g_2d)"
      ],
      "execution_count": 96,
      "outputs": []
    },
    {
      "cell_type": "code",
      "metadata": {
        "id": "Pcp34N4jLQs7"
      },
      "source": [
        "%time precompute_idx_ntrunc_rot_cpu(Rs[:2,:,:],xy,N_vec,atoms[:3,:],idx,n_trunc_vec,sigma_vec,g_2d)"
      ],
      "execution_count": null,
      "outputs": []
    },
    {
      "cell_type": "code",
      "metadata": {
        "id": "T8TjAtMWJY95"
      },
      "source": [
        "doplt(g_2d[0].reshape(N,N))"
      ],
      "execution_count": null,
      "outputs": []
    },
    {
      "cell_type": "code",
      "metadata": {
        "id": "hA4mYRDIJ0yZ"
      },
      "source": [
        "doplt(g_2d[1].reshape(N,N))"
      ],
      "execution_count": null,
      "outputs": []
    },
    {
      "cell_type": "markdown",
      "metadata": {
        "id": "q3cgrpehhhe0"
      },
      "source": [
        "### cuda (rotation inside)"
      ]
    },
    {
      "cell_type": "code",
      "metadata": {
        "colab": {
          "base_uri": "https://localhost:8080/"
        },
        "id": "zSqH6Tzf6p9T",
        "outputId": "3131fdeb-5895-4e9e-f689-90240466ac08"
      },
      "source": [
        "n_atoms = 10000\n",
        "N = 128\n",
        "pad = 0.2\n",
        "np.random.seed(0)\n",
        "atoms = np.random.uniform(low=-N/2+pad*N,high=N/2-pad*N,size=3*n_atoms).reshape(3,n_atoms)\n",
        "atoms.shape"
      ],
      "execution_count": 100,
      "outputs": [
        {
          "output_type": "execute_result",
          "data": {
            "text/plain": [
              "(3, 10000)"
            ]
          },
          "metadata": {
            "tags": []
          },
          "execution_count": 100
        }
      ]
    },
    {
      "cell_type": "code",
      "metadata": {
        "id": "6JXaKn0F6sS1"
      },
      "source": [
        "xy = coords.coords_n_by_d(np.arange(-N//2,N//2),d=2)"
      ],
      "execution_count": 101,
      "outputs": []
    },
    {
      "cell_type": "code",
      "metadata": {
        "id": "FA5KmTBx7AFP"
      },
      "source": [
        "N = np.sqrt(xy.shape[0]).astype(int)\n",
        "X = np.round(atoms[0]).astype(np.int32) + N//2\n",
        "Y = np.round(atoms[1]).astype(np.int32) + N//2\n",
        "idx = X+N*Y"
      ],
      "execution_count": 102,
      "outputs": []
    },
    {
      "cell_type": "code",
      "metadata": {
        "id": "UL0ri62ziKES"
      },
      "source": [
        "@nb.guvectorize([(nb.float64[:,:,:],nb.float64[:,:],nb.int64[:],nb.float64[:,:],nb.int64[:],nb.int64[:],nb.float64[:],nb.float64[:,:])], '(r2,r3,n_proj),(N2,r2),(n_atoms),(r3,n_atoms),(n_atoms),(n_atoms),(n_atoms)->(n_proj,N2)',nopython=True,target='cuda')\n",
        "def precompute_idx_ntrunc_rot_gpu(Rs,xy,N,atoms,idx,n_trunc,sigma,g_2d):\n",
        "  for proj_idx in range(Rs.shape[-1]):\n",
        "    R = Rs[:,:,proj_idx]\n",
        "\n",
        "    for i in range(idx.shape[0]): # loop over atoms\n",
        "      nt_ = (n_trunc[i]-1)//2\n",
        "      a = -1/(2*sigma[i]*sigma[i]) # sigma in pixel units\n",
        "\n",
        "      x = atoms[0,i]\n",
        "      y = atoms[1,i]\n",
        "      z = atoms[2,i]\n",
        "\n",
        "      # code dot product explicitly\n",
        "      x_rot = R[0,0]*x + R[0,1]*y + R[0,2]*z\n",
        "      y_rot = R[1,0]*x + R[1,1]*y + R[1,2]*z\n",
        "\n",
        "      X = round(x_rot) + N[i]//2\n",
        "      Y = round(y_rot) + N[i]//2\n",
        "      idx[i] = X+N[i]*Y\n",
        "\n",
        "      for x_idx in range(idx[i]-nt_,idx[i]+nt_+1,1): \n",
        "        for y_idx in range(-nt_,+nt_+1,1):\n",
        "          xy_idx = x_idx + y_idx*N[i]\n",
        "          diffx = xy[xy_idx,0] - x_rot  # atom locations in pixel units\n",
        "          diffy = xy[xy_idx,1] - y_rot \n",
        "          d2i = diffx*diffx+diffy*diffy\n",
        "          gi = math.exp(a*d2i)\n",
        "          g_2d[proj_idx,xy_idx] += gi # check no racing condition\n",
        "del g_2d"
      ],
      "execution_count": 103,
      "outputs": []
    },
    {
      "cell_type": "code",
      "metadata": {
        "colab": {
          "base_uri": "https://localhost:8080/"
        },
        "id": "k1W1CAru7CgP",
        "outputId": "d6d48b9f-ec17-4536-e9ea-05b45d8b4fa9"
      },
      "source": [
        "%%time\n",
        "N=128\n",
        "n_proj=50\n",
        "sigma=1\n",
        "g_2d = np.zeros((n_proj,N*N))\n",
        "n_trunc = np.int64(6*sigma)"
      ],
      "execution_count": 104,
      "outputs": [
        {
          "output_type": "stream",
          "text": [
            "CPU times: user 2.94 ms, sys: 0 ns, total: 2.94 ms\n",
            "Wall time: 1.93 ms\n"
          ],
          "name": "stdout"
        }
      ]
    },
    {
      "cell_type": "code",
      "metadata": {
        "colab": {
          "base_uri": "https://localhost:8080/"
        },
        "id": "n9WxidLQ5wik",
        "outputId": "8efd1460-b540-4a22-bd04-c43b3e7e27d7"
      },
      "source": [
        "%%time\n",
        "np.random.seed(0)\n",
        "qs = coords.get_random_quat(n_proj)\n",
        "Rs = coords.quaternion_to_R(qs.T)\n",
        "print(Rs.shape)"
      ],
      "execution_count": 105,
      "outputs": [
        {
          "output_type": "stream",
          "text": [
            "(3, 3, 50)\n",
            "CPU times: user 157 µs, sys: 1.07 ms, total: 1.22 ms\n",
            "Wall time: 973 µs\n"
          ],
          "name": "stdout"
        }
      ]
    },
    {
      "cell_type": "code",
      "metadata": {
        "colab": {
          "base_uri": "https://localhost:8080/"
        },
        "id": "C7B68jcAsGae",
        "outputId": "8f11adbd-b668-4ee0-82dd-baf6ff4d2909"
      },
      "source": [
        "%%time\n",
        "Rs_gpu = nb.cuda.to_device(Rs[:2,:,:])\n",
        "N_gpu = nb.cuda.to_device(N*np.ones(atoms.shape[1]).astype(np.int64))\n",
        "n_trunc_gpu = nb.cuda.to_device(n_trunc*np.ones(atoms.shape[1]).astype(np.int64))\n",
        "sigma_gpu = nb.cuda.to_device(sigma*np.ones(atoms.shape[1]).astype(np.float64))\n",
        "xy_gpu = nb.cuda.to_device(xy)\n",
        "atoms_gpu = nb.cuda.to_device(atoms[:3,:])\n",
        "idx_gpu = nb.cuda.to_device(idx.astype(np.int64))\n",
        "g_2d_gpu = nb.cuda.to_device(g_2d)"
      ],
      "execution_count": 106,
      "outputs": [
        {
          "output_type": "stream",
          "text": [
            "CPU times: user 6.51 ms, sys: 2.19 ms, total: 8.7 ms\n",
            "Wall time: 8.14 ms\n"
          ],
          "name": "stdout"
        }
      ]
    },
    {
      "cell_type": "code",
      "metadata": {
        "colab": {
          "base_uri": "https://localhost:8080/"
        },
        "id": "kbOOVKDcxtY0",
        "outputId": "a1ba34d4-2e86-4e43-fe1e-39d91432c500"
      },
      "source": [
        "%time gauss_forward_model.precompute_idx_ntrunc_rot_gpu(Rs_gpu,xy_gpu,N_gpu,atoms_gpu[:3,:],idx_gpu,n_trunc_gpu,sigma_gpu,g_2d_gpu)\n",
        "# precompute_idx_ntrunc_rot_gpu(Rs_gpu,xy_gpu,N_gpu,atoms_gpu[:3,:],idx_gpu,n_trunc_gpu,sigma_gpu,g_2d_gpu)"
      ],
      "execution_count": 107,
      "outputs": [
        {
          "output_type": "stream",
          "text": [
            "CPU times: user 5.13 ms, sys: 1.04 ms, total: 6.17 ms\n",
            "Wall time: 5.32 ms\n"
          ],
          "name": "stdout"
        },
        {
          "output_type": "execute_result",
          "data": {
            "text/plain": [
              "<numba.cuda.cudadrv.devicearray.DeviceNDArray at 0x7f21b380dbd0>"
            ]
          },
          "metadata": {
            "tags": []
          },
          "execution_count": 107
        }
      ]
    },
    {
      "cell_type": "code",
      "metadata": {
        "colab": {
          "base_uri": "https://localhost:8080/"
        },
        "id": "HOTCfdY06Bb4",
        "outputId": "5a9b08d1-b538-4e17-fef9-b5dc5879cd5c"
      },
      "source": [
        "%time g_2d_cpu = g_2d_gpu.copy_to_host()\n",
        "# g_2d_cpu = g_2d_gpu.copy_to_host()\n",
        "# TODO: g_2d_gpu.to_host() what is the difference"
      ],
      "execution_count": 108,
      "outputs": [
        {
          "output_type": "stream",
          "text": [
            "CPU times: user 2.88 s, sys: 2.48 s, total: 5.36 s\n",
            "Wall time: 5.35 s\n"
          ],
          "name": "stdout"
        }
      ]
    },
    {
      "cell_type": "code",
      "metadata": {
        "colab": {
          "base_uri": "https://localhost:8080/"
        },
        "id": "AAfjFFGhOPBu",
        "outputId": "b7af8c23-65f9-45b9-bfff-1884ce70e75d"
      },
      "source": [
        "g_2d_gpu.shape"
      ],
      "execution_count": 109,
      "outputs": [
        {
          "output_type": "execute_result",
          "data": {
            "text/plain": [
              "(50, 16384)"
            ]
          },
          "metadata": {
            "tags": []
          },
          "execution_count": 109
        }
      ]
    },
    {
      "cell_type": "code",
      "metadata": {
        "colab": {
          "base_uri": "https://localhost:8080/",
          "height": 268
        },
        "id": "uCcuWDEo83p3",
        "outputId": "9c0ca833-7554-4019-eede-ca7aa57ff6c9"
      },
      "source": [
        "doplt(g_2d_cpu[0].reshape(N,N))"
      ],
      "execution_count": 110,
      "outputs": [
        {
          "output_type": "display_data",
          "data": {
            "image/png": "[encoded data removed]",
            "text/plain": [
              "<Figure size 432x288 with 1 Axes>"
            ]
          },
          "metadata": {
            "tags": [],
            "needs_background": "light"
          }
        }
      ]
    }
  ]
}